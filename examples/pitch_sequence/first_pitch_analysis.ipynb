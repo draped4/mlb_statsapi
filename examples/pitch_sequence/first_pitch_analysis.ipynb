{
 "cells": [
  {
   "cell_type": "code",
   "execution_count": 1,
   "metadata": {},
   "outputs": [],
   "source": [
    "import pandas as pd\n",
    "import plotly.express as px"
   ]
  },
  {
   "cell_type": "code",
   "execution_count": 2,
   "metadata": {},
   "outputs": [
    {
     "data": {
      "text/html": [
       "<div>\n",
       "<style scoped>\n",
       "    .dataframe tbody tr th:only-of-type {\n",
       "        vertical-align: middle;\n",
       "    }\n",
       "\n",
       "    .dataframe tbody tr th {\n",
       "        vertical-align: top;\n",
       "    }\n",
       "\n",
       "    .dataframe thead th {\n",
       "        text-align: right;\n",
       "    }\n",
       "</style>\n",
       "<table border=\"1\" class=\"dataframe\">\n",
       "  <thead>\n",
       "    <tr style=\"text-align: right;\">\n",
       "      <th></th>\n",
       "      <th>atBatIndex</th>\n",
       "      <th>matchup_batSide_code</th>\n",
       "      <th>matchup_batSide_description</th>\n",
       "      <th>matchup_batter_fullName</th>\n",
       "      <th>matchup_batter_id</th>\n",
       "      <th>matchup_batter_link</th>\n",
       "      <th>matchup_pitchHand_code</th>\n",
       "      <th>matchup_pitchHand_description</th>\n",
       "      <th>matchup_pitcher_fullName</th>\n",
       "      <th>matchup_pitcher_id</th>\n",
       "      <th>...</th>\n",
       "      <th>pitches_15_pitchData_strikeZoneTop</th>\n",
       "      <th>pitches_15_pitchData_typeConfidence</th>\n",
       "      <th>pitches_15_pitchData_zone</th>\n",
       "      <th>pitches_15_pitchNumber</th>\n",
       "      <th>pitches_15_playId</th>\n",
       "      <th>pitches_15_prevCount_balls</th>\n",
       "      <th>pitches_15_prevCount_strikes</th>\n",
       "      <th>pitches_15_startTime</th>\n",
       "      <th>pitches_15_type</th>\n",
       "      <th>pitches_5_reviewDetails_challengeTeamId</th>\n",
       "    </tr>\n",
       "  </thead>\n",
       "  <tbody>\n",
       "    <tr>\n",
       "      <th>0</th>\n",
       "      <td>0</td>\n",
       "      <td>L</td>\n",
       "      <td>Left</td>\n",
       "      <td>Max Kepler</td>\n",
       "      <td>596146</td>\n",
       "      <td>/api/v1/people/596146</td>\n",
       "      <td>R</td>\n",
       "      <td>Right</td>\n",
       "      <td>Homer Bailey</td>\n",
       "      <td>456701</td>\n",
       "      <td>...</td>\n",
       "      <td>NaN</td>\n",
       "      <td>NaN</td>\n",
       "      <td>NaN</td>\n",
       "      <td>NaN</td>\n",
       "      <td>NaN</td>\n",
       "      <td>NaN</td>\n",
       "      <td>NaN</td>\n",
       "      <td>NaN</td>\n",
       "      <td>NaN</td>\n",
       "      <td>NaN</td>\n",
       "    </tr>\n",
       "    <tr>\n",
       "      <th>1</th>\n",
       "      <td>1</td>\n",
       "      <td>L</td>\n",
       "      <td>Left</td>\n",
       "      <td>Jorge Polanco</td>\n",
       "      <td>593871</td>\n",
       "      <td>/api/v1/people/593871</td>\n",
       "      <td>R</td>\n",
       "      <td>Right</td>\n",
       "      <td>Homer Bailey</td>\n",
       "      <td>456701</td>\n",
       "      <td>...</td>\n",
       "      <td>NaN</td>\n",
       "      <td>NaN</td>\n",
       "      <td>NaN</td>\n",
       "      <td>NaN</td>\n",
       "      <td>NaN</td>\n",
       "      <td>NaN</td>\n",
       "      <td>NaN</td>\n",
       "      <td>NaN</td>\n",
       "      <td>NaN</td>\n",
       "      <td>NaN</td>\n",
       "    </tr>\n",
       "    <tr>\n",
       "      <th>2</th>\n",
       "      <td>2</td>\n",
       "      <td>R</td>\n",
       "      <td>Right</td>\n",
       "      <td>Nelson Cruz</td>\n",
       "      <td>443558</td>\n",
       "      <td>/api/v1/people/443558</td>\n",
       "      <td>R</td>\n",
       "      <td>Right</td>\n",
       "      <td>Homer Bailey</td>\n",
       "      <td>456701</td>\n",
       "      <td>...</td>\n",
       "      <td>NaN</td>\n",
       "      <td>NaN</td>\n",
       "      <td>NaN</td>\n",
       "      <td>NaN</td>\n",
       "      <td>NaN</td>\n",
       "      <td>NaN</td>\n",
       "      <td>NaN</td>\n",
       "      <td>NaN</td>\n",
       "      <td>NaN</td>\n",
       "      <td>NaN</td>\n",
       "    </tr>\n",
       "    <tr>\n",
       "      <th>3</th>\n",
       "      <td>3</td>\n",
       "      <td>R</td>\n",
       "      <td>Right</td>\n",
       "      <td>Whit Merrifield</td>\n",
       "      <td>593160</td>\n",
       "      <td>/api/v1/people/593160</td>\n",
       "      <td>R</td>\n",
       "      <td>Right</td>\n",
       "      <td>Kyle Gibson</td>\n",
       "      <td>502043</td>\n",
       "      <td>...</td>\n",
       "      <td>NaN</td>\n",
       "      <td>NaN</td>\n",
       "      <td>NaN</td>\n",
       "      <td>NaN</td>\n",
       "      <td>NaN</td>\n",
       "      <td>NaN</td>\n",
       "      <td>NaN</td>\n",
       "      <td>NaN</td>\n",
       "      <td>NaN</td>\n",
       "      <td>NaN</td>\n",
       "    </tr>\n",
       "    <tr>\n",
       "      <th>4</th>\n",
       "      <td>4</td>\n",
       "      <td>L</td>\n",
       "      <td>Left</td>\n",
       "      <td>Adalberto Mondesi</td>\n",
       "      <td>609275</td>\n",
       "      <td>/api/v1/people/609275</td>\n",
       "      <td>R</td>\n",
       "      <td>Right</td>\n",
       "      <td>Kyle Gibson</td>\n",
       "      <td>502043</td>\n",
       "      <td>...</td>\n",
       "      <td>NaN</td>\n",
       "      <td>NaN</td>\n",
       "      <td>NaN</td>\n",
       "      <td>NaN</td>\n",
       "      <td>NaN</td>\n",
       "      <td>NaN</td>\n",
       "      <td>NaN</td>\n",
       "      <td>NaN</td>\n",
       "      <td>NaN</td>\n",
       "      <td>NaN</td>\n",
       "    </tr>\n",
       "    <tr>\n",
       "      <th>...</th>\n",
       "      <td>...</td>\n",
       "      <td>...</td>\n",
       "      <td>...</td>\n",
       "      <td>...</td>\n",
       "      <td>...</td>\n",
       "      <td>...</td>\n",
       "      <td>...</td>\n",
       "      <td>...</td>\n",
       "      <td>...</td>\n",
       "      <td>...</td>\n",
       "      <td>...</td>\n",
       "      <td>...</td>\n",
       "      <td>...</td>\n",
       "      <td>...</td>\n",
       "      <td>...</td>\n",
       "      <td>...</td>\n",
       "      <td>...</td>\n",
       "      <td>...</td>\n",
       "      <td>...</td>\n",
       "      <td>...</td>\n",
       "      <td>...</td>\n",
       "    </tr>\n",
       "    <tr>\n",
       "      <th>185895</th>\n",
       "      <td>65</td>\n",
       "      <td>L</td>\n",
       "      <td>Left</td>\n",
       "      <td>Joc Pederson</td>\n",
       "      <td>592626</td>\n",
       "      <td>/api/v1/people/592626</td>\n",
       "      <td>R</td>\n",
       "      <td>Right</td>\n",
       "      <td>Mychal Givens</td>\n",
       "      <td>571710</td>\n",
       "      <td>...</td>\n",
       "      <td>NaN</td>\n",
       "      <td>NaN</td>\n",
       "      <td>NaN</td>\n",
       "      <td>NaN</td>\n",
       "      <td>NaN</td>\n",
       "      <td>NaN</td>\n",
       "      <td>NaN</td>\n",
       "      <td>NaN</td>\n",
       "      <td>NaN</td>\n",
       "      <td>NaN</td>\n",
       "    </tr>\n",
       "    <tr>\n",
       "      <th>185896</th>\n",
       "      <td>66</td>\n",
       "      <td>L</td>\n",
       "      <td>Left</td>\n",
       "      <td>Cody Bellinger</td>\n",
       "      <td>641355</td>\n",
       "      <td>/api/v1/people/641355</td>\n",
       "      <td>R</td>\n",
       "      <td>Right</td>\n",
       "      <td>Mychal Givens</td>\n",
       "      <td>571710</td>\n",
       "      <td>...</td>\n",
       "      <td>NaN</td>\n",
       "      <td>NaN</td>\n",
       "      <td>NaN</td>\n",
       "      <td>NaN</td>\n",
       "      <td>NaN</td>\n",
       "      <td>NaN</td>\n",
       "      <td>NaN</td>\n",
       "      <td>NaN</td>\n",
       "      <td>NaN</td>\n",
       "      <td>NaN</td>\n",
       "    </tr>\n",
       "    <tr>\n",
       "      <th>185897</th>\n",
       "      <td>67</td>\n",
       "      <td>L</td>\n",
       "      <td>Left</td>\n",
       "      <td>Matt Beaty</td>\n",
       "      <td>607461</td>\n",
       "      <td>/api/v1/people/607461</td>\n",
       "      <td>R</td>\n",
       "      <td>Right</td>\n",
       "      <td>Mychal Givens</td>\n",
       "      <td>571710</td>\n",
       "      <td>...</td>\n",
       "      <td>NaN</td>\n",
       "      <td>NaN</td>\n",
       "      <td>NaN</td>\n",
       "      <td>NaN</td>\n",
       "      <td>NaN</td>\n",
       "      <td>NaN</td>\n",
       "      <td>NaN</td>\n",
       "      <td>NaN</td>\n",
       "      <td>NaN</td>\n",
       "      <td>NaN</td>\n",
       "    </tr>\n",
       "    <tr>\n",
       "      <th>185898</th>\n",
       "      <td>68</td>\n",
       "      <td>L</td>\n",
       "      <td>Left</td>\n",
       "      <td>Corey Seager</td>\n",
       "      <td>608369</td>\n",
       "      <td>/api/v1/people/608369</td>\n",
       "      <td>R</td>\n",
       "      <td>Right</td>\n",
       "      <td>Mychal Givens</td>\n",
       "      <td>571710</td>\n",
       "      <td>...</td>\n",
       "      <td>NaN</td>\n",
       "      <td>NaN</td>\n",
       "      <td>NaN</td>\n",
       "      <td>NaN</td>\n",
       "      <td>NaN</td>\n",
       "      <td>NaN</td>\n",
       "      <td>NaN</td>\n",
       "      <td>NaN</td>\n",
       "      <td>NaN</td>\n",
       "      <td>NaN</td>\n",
       "    </tr>\n",
       "    <tr>\n",
       "      <th>185899</th>\n",
       "      <td>69</td>\n",
       "      <td>L</td>\n",
       "      <td>Left</td>\n",
       "      <td>Gavin Lux</td>\n",
       "      <td>666158</td>\n",
       "      <td>/api/v1/people/666158</td>\n",
       "      <td>R</td>\n",
       "      <td>Right</td>\n",
       "      <td>Mychal Givens</td>\n",
       "      <td>571710</td>\n",
       "      <td>...</td>\n",
       "      <td>NaN</td>\n",
       "      <td>NaN</td>\n",
       "      <td>NaN</td>\n",
       "      <td>NaN</td>\n",
       "      <td>NaN</td>\n",
       "      <td>NaN</td>\n",
       "      <td>NaN</td>\n",
       "      <td>NaN</td>\n",
       "      <td>NaN</td>\n",
       "      <td>NaN</td>\n",
       "    </tr>\n",
       "  </tbody>\n",
       "</table>\n",
       "<p>185900 rows × 1360 columns</p>\n",
       "</div>"
      ],
      "text/plain": [
       "        atBatIndex matchup_batSide_code matchup_batSide_description  \\\n",
       "0                0                    L                        Left   \n",
       "1                1                    L                        Left   \n",
       "2                2                    R                       Right   \n",
       "3                3                    R                       Right   \n",
       "4                4                    L                        Left   \n",
       "...            ...                  ...                         ...   \n",
       "185895          65                    L                        Left   \n",
       "185896          66                    L                        Left   \n",
       "185897          67                    L                        Left   \n",
       "185898          68                    L                        Left   \n",
       "185899          69                    L                        Left   \n",
       "\n",
       "       matchup_batter_fullName  matchup_batter_id    matchup_batter_link  \\\n",
       "0                   Max Kepler             596146  /api/v1/people/596146   \n",
       "1                Jorge Polanco             593871  /api/v1/people/593871   \n",
       "2                  Nelson Cruz             443558  /api/v1/people/443558   \n",
       "3              Whit Merrifield             593160  /api/v1/people/593160   \n",
       "4            Adalberto Mondesi             609275  /api/v1/people/609275   \n",
       "...                        ...                ...                    ...   \n",
       "185895            Joc Pederson             592626  /api/v1/people/592626   \n",
       "185896          Cody Bellinger             641355  /api/v1/people/641355   \n",
       "185897              Matt Beaty             607461  /api/v1/people/607461   \n",
       "185898            Corey Seager             608369  /api/v1/people/608369   \n",
       "185899               Gavin Lux             666158  /api/v1/people/666158   \n",
       "\n",
       "       matchup_pitchHand_code matchup_pitchHand_description  \\\n",
       "0                           R                         Right   \n",
       "1                           R                         Right   \n",
       "2                           R                         Right   \n",
       "3                           R                         Right   \n",
       "4                           R                         Right   \n",
       "...                       ...                           ...   \n",
       "185895                      R                         Right   \n",
       "185896                      R                         Right   \n",
       "185897                      R                         Right   \n",
       "185898                      R                         Right   \n",
       "185899                      R                         Right   \n",
       "\n",
       "       matchup_pitcher_fullName  matchup_pitcher_id  ...  \\\n",
       "0                  Homer Bailey              456701  ...   \n",
       "1                  Homer Bailey              456701  ...   \n",
       "2                  Homer Bailey              456701  ...   \n",
       "3                   Kyle Gibson              502043  ...   \n",
       "4                   Kyle Gibson              502043  ...   \n",
       "...                         ...                 ...  ...   \n",
       "185895            Mychal Givens              571710  ...   \n",
       "185896            Mychal Givens              571710  ...   \n",
       "185897            Mychal Givens              571710  ...   \n",
       "185898            Mychal Givens              571710  ...   \n",
       "185899            Mychal Givens              571710  ...   \n",
       "\n",
       "       pitches_15_pitchData_strikeZoneTop pitches_15_pitchData_typeConfidence  \\\n",
       "0                                     NaN                                 NaN   \n",
       "1                                     NaN                                 NaN   \n",
       "2                                     NaN                                 NaN   \n",
       "3                                     NaN                                 NaN   \n",
       "4                                     NaN                                 NaN   \n",
       "...                                   ...                                 ...   \n",
       "185895                                NaN                                 NaN   \n",
       "185896                                NaN                                 NaN   \n",
       "185897                                NaN                                 NaN   \n",
       "185898                                NaN                                 NaN   \n",
       "185899                                NaN                                 NaN   \n",
       "\n",
       "       pitches_15_pitchData_zone pitches_15_pitchNumber pitches_15_playId  \\\n",
       "0                            NaN                    NaN               NaN   \n",
       "1                            NaN                    NaN               NaN   \n",
       "2                            NaN                    NaN               NaN   \n",
       "3                            NaN                    NaN               NaN   \n",
       "4                            NaN                    NaN               NaN   \n",
       "...                          ...                    ...               ...   \n",
       "185895                       NaN                    NaN               NaN   \n",
       "185896                       NaN                    NaN               NaN   \n",
       "185897                       NaN                    NaN               NaN   \n",
       "185898                       NaN                    NaN               NaN   \n",
       "185899                       NaN                    NaN               NaN   \n",
       "\n",
       "       pitches_15_prevCount_balls pitches_15_prevCount_strikes  \\\n",
       "0                             NaN                          NaN   \n",
       "1                             NaN                          NaN   \n",
       "2                             NaN                          NaN   \n",
       "3                             NaN                          NaN   \n",
       "4                             NaN                          NaN   \n",
       "...                           ...                          ...   \n",
       "185895                        NaN                          NaN   \n",
       "185896                        NaN                          NaN   \n",
       "185897                        NaN                          NaN   \n",
       "185898                        NaN                          NaN   \n",
       "185899                        NaN                          NaN   \n",
       "\n",
       "       pitches_15_startTime  pitches_15_type  \\\n",
       "0                       NaN              NaN   \n",
       "1                       NaN              NaN   \n",
       "2                       NaN              NaN   \n",
       "3                       NaN              NaN   \n",
       "4                       NaN              NaN   \n",
       "...                     ...              ...   \n",
       "185895                  NaN              NaN   \n",
       "185896                  NaN              NaN   \n",
       "185897                  NaN              NaN   \n",
       "185898                  NaN              NaN   \n",
       "185899                  NaN              NaN   \n",
       "\n",
       "        pitches_5_reviewDetails_challengeTeamId  \n",
       "0                                           NaN  \n",
       "1                                           NaN  \n",
       "2                                           NaN  \n",
       "3                                           NaN  \n",
       "4                                           NaN  \n",
       "...                                         ...  \n",
       "185895                                      NaN  \n",
       "185896                                      NaN  \n",
       "185897                                      NaN  \n",
       "185898                                      NaN  \n",
       "185899                                      NaN  \n",
       "\n",
       "[185900 rows x 1360 columns]"
      ]
     },
     "execution_count": 2,
     "metadata": {},
     "output_type": "execute_result"
    }
   ],
   "source": [
    "dtypes = {25: \"str\",26: \"str\",27: \"str\",28: \"str\",34: \"str\",458: \"str\",460: \"str\",478: \"str\",483: \"str\",521: \"str\",523: \"str\",524: \"str\",579: \"str\",580: \"str\",581: \"str\",582: \"str\",583: \"str\",584: \"str\",585: \"str\",586: \"str\",587: \"str\",588: \"str\",589: \"str\",590: \"str\",591: \"str\",593: \"str\",594: \"str\",624: \"str\",627: \"str\",628: \"str\",631: \"str\",632: \"str\",633: \"str\",634: \"str\",635: \"str\",636: \"str\",637: \"str\",638: \"str\",639: \"str\",640: \"str\",641: \"str\",642: \"str\",643: \"str\",646: \"str\",651: \"str\",653: \"str\",654: \"str\",684: \"str\",687: \"str\",688: \"str\",697: \"str\",701: \"str\",705: \"str\",709: \"str\",713: \"str\",717: \"str\",721: \"str\",725: \"str\",729: \"str\",733: \"str\",737: \"str\",741: \"str\",745: \"str\",754: \"str\",758: \"str\",762: \"str\",766: \"str\",770: \"str\",774: \"str\",778: \"str\",782: \"str\",786: \"str\",790: \"str\",794: \"str\",798: \"str\",802: \"str\",811: \"str\",815: \"str\",819: \"str\",823: \"str\",827: \"str\",831: \"str\",835: \"str\",839: \"str\",843: \"str\",847: \"str\",851: \"str\",855: \"str\",859: \"str\",864: \"str\",868: \"str\",872: \"str\",876: \"str\",880: \"str\",884: \"str\",888: \"str\",892: \"str\",896: \"str\",900: \"str\",904: \"str\",908: \"str\",912: \"str\",922: \"str\",926: \"str\",930: \"str\",934: \"str\",938: \"str\",942: \"str\",946: \"str\",950: \"str\",954: \"str\",958: \"str\",962: \"str\",966: \"str\",970: \"str\",975: \"str\",979: \"str\",983: \"str\",987: \"str\",991: \"str\",995: \"str\",999: \"str\",1003: \"str\",1007: \"str\",1011: \"str\",1015: \"str\",1019: \"str\",1023: \"str\",1025: \"str\",1026: \"str\",1027: \"str\",1030: \"str\",1035: \"str\",1036: \"str\",1039: \"str\",1044: \"str\",1045: \"str\",1046: \"str\",1047: \"str\",1050: \"str\",1051: \"str\",1052: \"str\",1053: \"str\",1054: \"str\",1055: \"str\",1056: \"str\",1057: \"str\",1058: \"str\",1059: \"str\",1060: \"str\",1061: \"str\",1062: \"str\",1063: \"str\",1065: \"str\",1066: \"str\",1096: \"str\",1099: \"str\",1100: \"str\",1101: \"str\",1103: \"str\",1104: \"str\",1107: \"str\",1112: \"str\",1113: \"str\",1114: \"str\",1115: \"str\",1117: \"str\",1118: \"str\",1119: \"str\",1122: \"str\",1123: \"str\",1124: \"str\",1125: \"str\",1126: \"str\",1127: \"str\",1128: \"str\",1129: \"str\",1130: \"str\",1131: \"str\",1132: \"str\",1133: \"str\",1134: \"str\",1137: \"str\",1142: \"str\",1144: \"str\",1145: \"str\",1175: \"str\",1178: \"str\",1179: \"str\",1180: \"str\",1181: \"str\",1182: \"str\",1185: \"str\",1186: \"str\",1187: \"str\",1188: \"str\",1189: \"str\",1190: \"str\",1191: \"str\",1192: \"str\",1193: \"str\",1194: \"str\",1195: \"str\",1196: \"str\",1197: \"str\",1200: \"str\",1205: \"str\",1207: \"str\",1208: \"str\",1237: \"str\",1240: \"str\",1241: \"str\",1243: \"str\",1244: \"str\",1245: \"str\",1248: \"str\",1249: \"str\",1251: \"str\",1252: \"str\",1253: \"str\",1254: \"str\",1257: \"str\",1258: \"str\",1259: \"str\",1260: \"str\",1261: \"str\",1262: \"str\",1263: \"str\",1264: \"str\",1265: \"str\",1266: \"str\",1267: \"str\",1268: \"str\",1269: \"str\",1271: \"str\",1272: \"str\",1302: \"str\",1305: \"str\",1306: \"str\",1309: \"str\",1310: \"str\",1311: \"str\",1312: \"str\",1313: \"str\",1314: \"str\",1315: \"str\",1316: \"str\",1317: \"str\",1318: \"str\",1319: \"str\",1320: \"str\",1321: \"str\",1323: \"str\",1324: \"str\",1354: \"str\",1357: \"str\",1358: \"str\"}\n",
    "pitches_df = pd.read_csv(\"out.csv\", dtype=dtypes)\n",
    "pitches_df"
   ]
  },
  {
   "cell_type": "code",
   "execution_count": 18,
   "metadata": {},
   "outputs": [
    {
     "data": {
      "text/plain": [
       "array(['field_out', 'strikeout', 'triple', 'single', 'double', 'walk',\n",
       "       'sac_fly', 'force_out', 'caught_stealing_home', 'home_run',\n",
       "       'field_error', 'hit_by_pitch', 'grounded_into_double_play',\n",
       "       'intent_walk', 'sac_bunt', 'fielders_choice_out', 'pickoff_3b',\n",
       "       'batter_interference', 'strikeout_double_play', 'double_play',\n",
       "       'sac_fly_double_play', 'fielders_choice', 'fan_interference',\n",
       "       'caught_stealing_2b', 'wild_pitch', 'pickoff_caught_stealing_2b',\n",
       "       'other_out', 'catcher_interf', 'pickoff_caught_stealing_3b',\n",
       "       'pickoff_1b', 'game_advisory', 'stolen_base_2b', 'passed_ball',\n",
       "       'caught_stealing_3b', 'runner_double_play', 'pickoff_2b',\n",
       "       'triple_play', 'pickoff_caught_stealing_home',\n",
       "       'sac_bunt_double_play', 'pickoff_error_1b'], dtype=object)"
      ]
     },
     "execution_count": 18,
     "metadata": {},
     "output_type": "execute_result"
    }
   ],
   "source": [
    "# Unique Values\n",
    "# unique_values = pd.unique(pitches_df['pitches_0_details_code'].values)\n",
    "# unique_values\n",
    "\n",
    "# unique_values = pd.unique(pitches_df['pitches_0_details_description'].values)\n",
    "# unique_values\n",
    "\n",
    "unique_values = pd.unique(pitches_df['result_eventType'].values)\n",
    "unique_values"
   ]
  },
  {
   "cell_type": "markdown",
   "metadata": {},
   "source": [
    "## Calculate First Pitch Counts and In-Play/Swing RE24"
   ]
  },
  {
   "cell_type": "code",
   "execution_count": 6,
   "metadata": {},
   "outputs": [
    {
     "data": {
      "text/html": [
       "<div>\n",
       "<style scoped>\n",
       "    .dataframe tbody tr th:only-of-type {\n",
       "        vertical-align: middle;\n",
       "    }\n",
       "\n",
       "    .dataframe tbody tr th {\n",
       "        vertical-align: top;\n",
       "    }\n",
       "\n",
       "    .dataframe thead th {\n",
       "        text-align: right;\n",
       "    }\n",
       "</style>\n",
       "<table border=\"1\" class=\"dataframe\">\n",
       "  <thead>\n",
       "    <tr style=\"text-align: right;\">\n",
       "      <th></th>\n",
       "      <th>pt_count</th>\n",
       "      <th>pt_re24</th>\n",
       "      <th>swung_count</th>\n",
       "      <th>swung_re24</th>\n",
       "      <th>inplay_count</th>\n",
       "      <th>inplay_re24</th>\n",
       "      <th>pt_of_all_perc</th>\n",
       "      <th>swung_of_all_perc</th>\n",
       "      <th>inplay_of_all_perc</th>\n",
       "      <th>swung_of_pt_perc</th>\n",
       "      <th>inplay_of_pt_perc</th>\n",
       "      <th>inplay_of_swung_perc</th>\n",
       "    </tr>\n",
       "    <tr>\n",
       "      <th>pitches_0_details_type_description</th>\n",
       "      <th></th>\n",
       "      <th></th>\n",
       "      <th></th>\n",
       "      <th></th>\n",
       "      <th></th>\n",
       "      <th></th>\n",
       "      <th></th>\n",
       "      <th></th>\n",
       "      <th></th>\n",
       "      <th></th>\n",
       "      <th></th>\n",
       "      <th></th>\n",
       "    </tr>\n",
       "  </thead>\n",
       "  <tbody>\n",
       "    <tr>\n",
       "      <th>Four-Seam Fastball</th>\n",
       "      <td>69741</td>\n",
       "      <td>-0.005079</td>\n",
       "      <td>21530</td>\n",
       "      <td>-0.001119</td>\n",
       "      <td>7459</td>\n",
       "      <td>0.087550</td>\n",
       "      <td>0.378540</td>\n",
       "      <td>0.116860</td>\n",
       "      <td>0.040486</td>\n",
       "      <td>0.308714</td>\n",
       "      <td>0.106953</td>\n",
       "      <td>0.346447</td>\n",
       "    </tr>\n",
       "    <tr>\n",
       "      <th>Slider</th>\n",
       "      <td>29974</td>\n",
       "      <td>-0.004637</td>\n",
       "      <td>9295</td>\n",
       "      <td>-0.018380</td>\n",
       "      <td>2863</td>\n",
       "      <td>0.065371</td>\n",
       "      <td>0.162693</td>\n",
       "      <td>0.050451</td>\n",
       "      <td>0.015540</td>\n",
       "      <td>0.310102</td>\n",
       "      <td>0.095516</td>\n",
       "      <td>0.308015</td>\n",
       "    </tr>\n",
       "    <tr>\n",
       "      <th>Curveball</th>\n",
       "      <td>20076</td>\n",
       "      <td>0.010413</td>\n",
       "      <td>4246</td>\n",
       "      <td>0.009901</td>\n",
       "      <td>1539</td>\n",
       "      <td>0.099723</td>\n",
       "      <td>0.108968</td>\n",
       "      <td>0.023046</td>\n",
       "      <td>0.008353</td>\n",
       "      <td>0.211496</td>\n",
       "      <td>0.076659</td>\n",
       "      <td>0.362459</td>\n",
       "    </tr>\n",
       "    <tr>\n",
       "      <th>Two-Seam Fastball</th>\n",
       "      <td>17524</td>\n",
       "      <td>-0.007592</td>\n",
       "      <td>5567</td>\n",
       "      <td>-0.016129</td>\n",
       "      <td>2455</td>\n",
       "      <td>0.044223</td>\n",
       "      <td>0.095117</td>\n",
       "      <td>0.030217</td>\n",
       "      <td>0.013325</td>\n",
       "      <td>0.317679</td>\n",
       "      <td>0.140094</td>\n",
       "      <td>0.440992</td>\n",
       "    </tr>\n",
       "    <tr>\n",
       "      <th>Sinker</th>\n",
       "      <td>16754</td>\n",
       "      <td>-0.000913</td>\n",
       "      <td>5099</td>\n",
       "      <td>0.002496</td>\n",
       "      <td>2291</td>\n",
       "      <td>0.049138</td>\n",
       "      <td>0.090937</td>\n",
       "      <td>0.027676</td>\n",
       "      <td>0.012435</td>\n",
       "      <td>0.304345</td>\n",
       "      <td>0.136743</td>\n",
       "      <td>0.449304</td>\n",
       "    </tr>\n",
       "    <tr>\n",
       "      <th>Changeup</th>\n",
       "      <td>13490</td>\n",
       "      <td>0.005342</td>\n",
       "      <td>4758</td>\n",
       "      <td>-0.020642</td>\n",
       "      <td>1708</td>\n",
       "      <td>0.033926</td>\n",
       "      <td>0.073221</td>\n",
       "      <td>0.025825</td>\n",
       "      <td>0.009271</td>\n",
       "      <td>0.352706</td>\n",
       "      <td>0.126612</td>\n",
       "      <td>0.358974</td>\n",
       "    </tr>\n",
       "    <tr>\n",
       "      <th>Cutter</th>\n",
       "      <td>10839</td>\n",
       "      <td>-0.003749</td>\n",
       "      <td>3667</td>\n",
       "      <td>-0.010365</td>\n",
       "      <td>1338</td>\n",
       "      <td>0.068040</td>\n",
       "      <td>0.058832</td>\n",
       "      <td>0.019904</td>\n",
       "      <td>0.007262</td>\n",
       "      <td>0.338315</td>\n",
       "      <td>0.123443</td>\n",
       "      <td>0.364876</td>\n",
       "    </tr>\n",
       "    <tr>\n",
       "      <th>Knuckle Curve</th>\n",
       "      <td>4152</td>\n",
       "      <td>-0.000911</td>\n",
       "      <td>900</td>\n",
       "      <td>0.010954</td>\n",
       "      <td>284</td>\n",
       "      <td>0.074772</td>\n",
       "      <td>0.022536</td>\n",
       "      <td>0.004885</td>\n",
       "      <td>0.001541</td>\n",
       "      <td>0.216763</td>\n",
       "      <td>0.068401</td>\n",
       "      <td>0.315556</td>\n",
       "    </tr>\n",
       "    <tr>\n",
       "      <th>Splitter</th>\n",
       "      <td>1622</td>\n",
       "      <td>-0.017246</td>\n",
       "      <td>595</td>\n",
       "      <td>-0.049381</td>\n",
       "      <td>186</td>\n",
       "      <td>0.012744</td>\n",
       "      <td>0.008804</td>\n",
       "      <td>0.003230</td>\n",
       "      <td>0.001010</td>\n",
       "      <td>0.366831</td>\n",
       "      <td>0.114673</td>\n",
       "      <td>0.312605</td>\n",
       "    </tr>\n",
       "    <tr>\n",
       "      <th>Knuckle Ball</th>\n",
       "      <td>60</td>\n",
       "      <td>0.051715</td>\n",
       "      <td>13</td>\n",
       "      <td>-0.107023</td>\n",
       "      <td>5</td>\n",
       "      <td>0.036420</td>\n",
       "      <td>0.000326</td>\n",
       "      <td>0.000071</td>\n",
       "      <td>0.000027</td>\n",
       "      <td>0.216667</td>\n",
       "      <td>0.083333</td>\n",
       "      <td>0.384615</td>\n",
       "    </tr>\n",
       "    <tr>\n",
       "      <th>Eephus</th>\n",
       "      <td>5</td>\n",
       "      <td>-0.355340</td>\n",
       "      <td>1</td>\n",
       "      <td>-0.193700</td>\n",
       "      <td>1</td>\n",
       "      <td>-0.193700</td>\n",
       "      <td>0.000027</td>\n",
       "      <td>0.000005</td>\n",
       "      <td>0.000005</td>\n",
       "      <td>0.200000</td>\n",
       "      <td>0.200000</td>\n",
       "      <td>1.000000</td>\n",
       "    </tr>\n",
       "  </tbody>\n",
       "</table>\n",
       "</div>"
      ],
      "text/plain": [
       "                                    pt_count   pt_re24  swung_count  \\\n",
       "pitches_0_details_type_description                                    \n",
       "Four-Seam Fastball                     69741 -0.005079        21530   \n",
       "Slider                                 29974 -0.004637         9295   \n",
       "Curveball                              20076  0.010413         4246   \n",
       "Two-Seam Fastball                      17524 -0.007592         5567   \n",
       "Sinker                                 16754 -0.000913         5099   \n",
       "Changeup                               13490  0.005342         4758   \n",
       "Cutter                                 10839 -0.003749         3667   \n",
       "Knuckle Curve                           4152 -0.000911          900   \n",
       "Splitter                                1622 -0.017246          595   \n",
       "Knuckle Ball                              60  0.051715           13   \n",
       "Eephus                                     5 -0.355340            1   \n",
       "\n",
       "                                    swung_re24  inplay_count  inplay_re24  \\\n",
       "pitches_0_details_type_description                                          \n",
       "Four-Seam Fastball                   -0.001119          7459     0.087550   \n",
       "Slider                               -0.018380          2863     0.065371   \n",
       "Curveball                             0.009901          1539     0.099723   \n",
       "Two-Seam Fastball                    -0.016129          2455     0.044223   \n",
       "Sinker                                0.002496          2291     0.049138   \n",
       "Changeup                             -0.020642          1708     0.033926   \n",
       "Cutter                               -0.010365          1338     0.068040   \n",
       "Knuckle Curve                         0.010954           284     0.074772   \n",
       "Splitter                             -0.049381           186     0.012744   \n",
       "Knuckle Ball                         -0.107023             5     0.036420   \n",
       "Eephus                               -0.193700             1    -0.193700   \n",
       "\n",
       "                                    pt_of_all_perc  swung_of_all_perc  \\\n",
       "pitches_0_details_type_description                                      \n",
       "Four-Seam Fastball                        0.378540           0.116860   \n",
       "Slider                                    0.162693           0.050451   \n",
       "Curveball                                 0.108968           0.023046   \n",
       "Two-Seam Fastball                         0.095117           0.030217   \n",
       "Sinker                                    0.090937           0.027676   \n",
       "Changeup                                  0.073221           0.025825   \n",
       "Cutter                                    0.058832           0.019904   \n",
       "Knuckle Curve                             0.022536           0.004885   \n",
       "Splitter                                  0.008804           0.003230   \n",
       "Knuckle Ball                              0.000326           0.000071   \n",
       "Eephus                                    0.000027           0.000005   \n",
       "\n",
       "                                    inplay_of_all_perc  swung_of_pt_perc  \\\n",
       "pitches_0_details_type_description                                         \n",
       "Four-Seam Fastball                            0.040486          0.308714   \n",
       "Slider                                        0.015540          0.310102   \n",
       "Curveball                                     0.008353          0.211496   \n",
       "Two-Seam Fastball                             0.013325          0.317679   \n",
       "Sinker                                        0.012435          0.304345   \n",
       "Changeup                                      0.009271          0.352706   \n",
       "Cutter                                        0.007262          0.338315   \n",
       "Knuckle Curve                                 0.001541          0.216763   \n",
       "Splitter                                      0.001010          0.366831   \n",
       "Knuckle Ball                                  0.000027          0.216667   \n",
       "Eephus                                        0.000005          0.200000   \n",
       "\n",
       "                                    inplay_of_pt_perc  inplay_of_swung_perc  \n",
       "pitches_0_details_type_description                                           \n",
       "Four-Seam Fastball                           0.106953              0.346447  \n",
       "Slider                                       0.095516              0.308015  \n",
       "Curveball                                    0.076659              0.362459  \n",
       "Two-Seam Fastball                            0.140094              0.440992  \n",
       "Sinker                                       0.136743              0.449304  \n",
       "Changeup                                     0.126612              0.358974  \n",
       "Cutter                                       0.123443              0.364876  \n",
       "Knuckle Curve                                0.068401              0.315556  \n",
       "Splitter                                     0.114673              0.312605  \n",
       "Knuckle Ball                                 0.083333              0.384615  \n",
       "Eephus                                       0.200000              1.000000  "
      ]
     },
     "execution_count": 6,
     "metadata": {},
     "output_type": "execute_result"
    }
   ],
   "source": [
    "# First pitch in play RE24\n",
    "first_pitch_only_df = pitches_df[(~pitches_df['pitchSequence_0'].isna()) & pitches_df['pitchSequence_1'].isna()]\n",
    "first_pitch_only_df = first_pitch_only_df[['pitches_0_details_type_description','re24']].groupby(['pitches_0_details_type_description']).mean().sort_values(['re24'],ascending=True)\n",
    "\n",
    "first_pitch_df = pitches_df[(~pitches_df['pitchSequence_0'].isna()) & pitches_df['pitchSequence_1'].isna()]\n",
    "first_pitch_df = first_pitch_df[['pitches_0_details_type_description','pitches_0_details_code']].groupby(['pitches_0_details_type_description']).count().sort_values(['pitches_0_details_code'],ascending=False)\n",
    "\n",
    "merged_inplay_df = first_pitch_only_df.merge(first_pitch_df, left_index=True, right_index=True)\n",
    "merged_inplay_df['inplay_count'] = merged_inplay_df['pitches_0_details_code']\n",
    "merged_inplay_df['inplay_re24'] = merged_inplay_df['re24']\n",
    "merged_inplay_df = merged_inplay_df[['inplay_count','inplay_re24']].sort_values(['inplay_count'], ascending=False)\n",
    "\n",
    "# First pitch RE24\n",
    "first_pitch_only_df = pitches_df[~pitches_df['pitchSequence_0'].isna()]\n",
    "first_pitch_only_df = first_pitch_only_df[['pitches_0_details_type_description','re24']].groupby(['pitches_0_details_type_description']).mean().sort_values(['re24'],ascending=True)\n",
    "\n",
    "first_pitch_df = pitches_df[~pitches_df['pitchSequence_0'].isna()]\n",
    "first_pitch_df = first_pitch_df[['pitches_0_details_type_description','pitches_0_details_code']].groupby(['pitches_0_details_type_description']).count().sort_values(['pitches_0_details_code'],ascending=False)\n",
    "\n",
    "merged_all_df = first_pitch_only_df.merge(first_pitch_df, left_index=True, right_index=True)\n",
    "merged_all_df['pt_count'] = merged_all_df['pitches_0_details_code']\n",
    "merged_all_df['pt_re24'] = merged_all_df['re24']\n",
    "merged_all_df = merged_all_df[['pt_count','pt_re24']]\n",
    "\n",
    "# First pitch swung at RE24\n",
    "first_pitch_only_df = pitches_df[(~pitches_df['pitchSequence_0'].isna()) & (pitches_df['pitchSequence_1'].isna() | pitches_df['pitches_0_details_description'].isin(['In play, run(s)', 'In play, out(s)', 'Swinging Strike', 'Foul', 'In play, no out', 'Foul Tip', 'Hit By Pitch', 'Swinging Strike (Blocked)', 'Foul Bunt', 'Missed Bunt']))]\n",
    "first_pitch_only_df = first_pitch_only_df[['pitches_0_details_type_description','re24']].groupby(['pitches_0_details_type_description']).mean().sort_values(['re24'],ascending=True)\n",
    "\n",
    "first_pitch_df = pitches_df[(~pitches_df['pitchSequence_0'].isna()) & (pitches_df['pitchSequence_1'].isna() | pitches_df['pitches_0_details_description'].isin(['In play, run(s)', 'In play, out(s)', 'Swinging Strike', 'Foul', 'In play, no out', 'Foul Tip', 'Hit By Pitch', 'Swinging Strike (Blocked)', 'Foul Bunt', 'Missed Bunt']))]\n",
    "first_pitch_df = first_pitch_df[['pitches_0_details_type_description','pitches_0_details_code']].groupby(['pitches_0_details_type_description']).count().sort_values(['pitches_0_details_code'],ascending=False)\n",
    "\n",
    "merged_swung_df = first_pitch_only_df.merge(first_pitch_df, left_index=True, right_index=True)\n",
    "merged_swung_df['swung_count'] = merged_swung_df['pitches_0_details_code']\n",
    "merged_swung_df['swung_re24'] = merged_swung_df['re24']\n",
    "merged_swung_df = merged_swung_df[['swung_count','swung_re24']].sort_values(['swung_count'], ascending=False)\n",
    "\n",
    "# Merge\n",
    "merged_all_df = merged_all_df.merge(merged_swung_df, left_index=True, right_index=True)\n",
    "merged_all_df = merged_all_df.merge(merged_inplay_df, left_index=True, right_index=True)\n",
    "\n",
    "# Calculate Percentages\n",
    "all_count = merged_all_df['pt_count'].sum()\n",
    "merged_all_df['pt_of_all_perc'] = merged_all_df['pt_count'] / all_count\n",
    "merged_all_df['swung_of_all_perc'] = merged_all_df['swung_count'] / all_count\n",
    "merged_all_df['inplay_of_all_perc'] = merged_all_df['inplay_count'] / all_count\n",
    "merged_all_df['swung_of_pt_perc'] = merged_all_df['swung_count'] / merged_all_df['pt_count']\n",
    "merged_all_df['inplay_of_pt_perc'] = merged_all_df['inplay_count'] / merged_all_df['pt_count']\n",
    "merged_all_df['inplay_of_swung_perc'] = merged_all_df['inplay_count'] / merged_all_df['swung_count']\n",
    "\n",
    "merged_all_df.sort_values(['pt_count'], ascending=False)"
   ]
  },
  {
   "cell_type": "code",
   "execution_count": 16,
   "metadata": {},
   "outputs": [
    {
     "data": {
      "application/vnd.plotly.v1+json": {
       "config": {
        "plotlyServerURL": "https://plot.ly"
       },
       "data": [
        {
         "hoverlabel": {
          "namelength": 0
         },
         "hovertemplate": "color=Splitter<br>swung_of_pt_perc=%{x}<br>swung_re24=%{y}<br>pt_of_all_perc=%{marker.size}",
         "legendgroup": "Splitter",
         "marker": {
          "color": "#636efa",
          "size": [
           0.008803877614160021
          ],
          "sizemode": "area",
          "sizeref": 0.0009463489961299848,
          "symbol": "circle"
         },
         "mode": "markers",
         "name": "Splitter",
         "showlegend": true,
         "type": "scatter",
         "x": [
          0.36683107274969173
         ],
         "xaxis": "x",
         "y": [
          -0.04938084033613419
         ],
         "yaxis": "y"
        },
        {
         "hoverlabel": {
          "namelength": 0
         },
         "hovertemplate": "color=Two-Seam Fastball<br>swung_of_pt_perc=%{x}<br>swung_re24=%{y}<br>pt_of_all_perc=%{marker.size}",
         "legendgroup": "Two-Seam Fastball",
         "marker": {
          "color": "#EF553B",
          "size": [
           0.09511661609774366
          ],
          "sizemode": "area",
          "sizeref": 0.0009463489961299848,
          "symbol": "circle"
         },
         "mode": "markers",
         "name": "Two-Seam Fastball",
         "showlegend": true,
         "type": "scatter",
         "x": [
          0.31767861218899796
         ],
         "xaxis": "x",
         "y": [
          -0.016129153942877273
         ],
         "yaxis": "y"
        },
        {
         "hoverlabel": {
          "namelength": 0
         },
         "hovertemplate": "color=Four-Seam Fastball<br>swung_of_pt_perc=%{x}<br>swung_re24=%{y}<br>pt_of_all_perc=%{marker.size}",
         "legendgroup": "Four-Seam Fastball",
         "marker": {
          "color": "#00cc96",
          "size": [
           0.3785395984519939
          ],
          "sizemode": "area",
          "sizeref": 0.0009463489961299848,
          "symbol": "circle"
         },
         "mode": "markers",
         "name": "Four-Seam Fastball",
         "showlegend": true,
         "type": "scatter",
         "x": [
          0.3087136691472735
         ],
         "xaxis": "x",
         "y": [
          -0.0011194147700881421
         ],
         "yaxis": "y"
        },
        {
         "hoverlabel": {
          "namelength": 0
         },
         "hovertemplate": "color=Slider<br>swung_of_pt_perc=%{x}<br>swung_re24=%{y}<br>pt_of_all_perc=%{marker.size}",
         "legendgroup": "Slider",
         "marker": {
          "color": "#ab63fa",
          "size": [
           0.16269261874650587
          ],
          "sizemode": "area",
          "sizeref": 0.0009463489961299848,
          "symbol": "circle"
         },
         "mode": "markers",
         "name": "Slider",
         "showlegend": true,
         "type": "scatter",
         "x": [
          0.3101020884766798
         ],
         "xaxis": "x",
         "y": [
          -0.018379903173748987
         ],
         "yaxis": "y"
        },
        {
         "hoverlabel": {
          "namelength": 0
         },
         "hovertemplate": "color=Cutter<br>swung_of_pt_perc=%{x}<br>swung_re24=%{y}<br>pt_of_all_perc=%{marker.size}",
         "legendgroup": "Cutter",
         "marker": {
          "color": "#FFA15A",
          "size": [
           0.058831830739753684
          ],
          "sizemode": "area",
          "sizeref": 0.0009463489961299848,
          "symbol": "circle"
         },
         "mode": "markers",
         "name": "Cutter",
         "showlegend": true,
         "type": "scatter",
         "x": [
          0.33831534274379554
         ],
         "xaxis": "x",
         "y": [
          -0.010365339514589534
         ],
         "yaxis": "y"
        },
        {
         "hoverlabel": {
          "namelength": 0
         },
         "hovertemplate": "color=Sinker<br>swung_of_pt_perc=%{x}<br>swung_re24=%{y}<br>pt_of_all_perc=%{marker.size}",
         "legendgroup": "Sinker",
         "marker": {
          "color": "#19d3f3",
          "size": [
           0.09093721673713749
          ],
          "sizemode": "area",
          "sizeref": 0.0009463489961299848,
          "symbol": "circle"
         },
         "mode": "markers",
         "name": "Sinker",
         "showlegend": true,
         "type": "scatter",
         "x": [
          0.3043452309896144
         ],
         "xaxis": "x",
         "y": [
          0.002496038438909692
         ],
         "yaxis": "y"
        },
        {
         "hoverlabel": {
          "namelength": 0
         },
         "hovertemplate": "color=Knuckle Curve<br>swung_of_pt_perc=%{x}<br>swung_re24=%{y}<br>pt_of_all_perc=%{marker.size}",
         "legendgroup": "Knuckle Curve",
         "marker": {
          "color": "#FF6692",
          "size": [
           0.022536189799008885
          ],
          "sizemode": "area",
          "sizeref": 0.0009463489961299848,
          "symbol": "circle"
         },
         "mode": "markers",
         "name": "Knuckle Curve",
         "showlegend": true,
         "type": "scatter",
         "x": [
          0.21676300578034682
         ],
         "xaxis": "x",
         "y": [
          0.010954333333333354
         ],
         "yaxis": "y"
        },
        {
         "hoverlabel": {
          "namelength": 0
         },
         "hovertemplate": "color=Changeup<br>swung_of_pt_perc=%{x}<br>swung_re24=%{y}<br>pt_of_all_perc=%{marker.size}",
         "legendgroup": "Changeup",
         "marker": {
          "color": "#B6E880",
          "size": [
           0.07322090568126924
          ],
          "sizemode": "area",
          "sizeref": 0.0009463489961299848,
          "symbol": "circle"
         },
         "mode": "markers",
         "name": "Changeup",
         "showlegend": true,
         "type": "scatter",
         "x": [
          0.35270570793180134
         ],
         "xaxis": "x",
         "y": [
          -0.020642034468263522
         ],
         "yaxis": "y"
        },
        {
         "hoverlabel": {
          "namelength": 0
         },
         "hovertemplate": "color=Curveball<br>swung_of_pt_perc=%{x}<br>swung_re24=%{y}<br>pt_of_all_perc=%{marker.size}",
         "legendgroup": "Curveball",
         "marker": {
          "color": "#FF97FF",
          "size": [
           0.10896833969289556
          ],
          "sizemode": "area",
          "sizeref": 0.0009463489961299848,
          "symbol": "circle"
         },
         "mode": "markers",
         "name": "Curveball",
         "showlegend": true,
         "type": "scatter",
         "x": [
          0.21149631400677427
         ],
         "xaxis": "x",
         "y": [
          0.009900706547338696
         ],
         "yaxis": "y"
        }
       ],
       "layout": {
        "legend": {
         "itemsizing": "constant",
         "title": {
          "text": "color"
         },
         "tracegroupgap": 0
        },
        "margin": {
         "t": 60
        },
        "template": {
         "data": {
          "bar": [
           {
            "error_x": {
             "color": "#2a3f5f"
            },
            "error_y": {
             "color": "#2a3f5f"
            },
            "marker": {
             "line": {
              "color": "#E5ECF6",
              "width": 0.5
             }
            },
            "type": "bar"
           }
          ],
          "barpolar": [
           {
            "marker": {
             "line": {
              "color": "#E5ECF6",
              "width": 0.5
             }
            },
            "type": "barpolar"
           }
          ],
          "carpet": [
           {
            "aaxis": {
             "endlinecolor": "#2a3f5f",
             "gridcolor": "white",
             "linecolor": "white",
             "minorgridcolor": "white",
             "startlinecolor": "#2a3f5f"
            },
            "baxis": {
             "endlinecolor": "#2a3f5f",
             "gridcolor": "white",
             "linecolor": "white",
             "minorgridcolor": "white",
             "startlinecolor": "#2a3f5f"
            },
            "type": "carpet"
           }
          ],
          "choropleth": [
           {
            "colorbar": {
             "outlinewidth": 0,
             "ticks": ""
            },
            "type": "choropleth"
           }
          ],
          "contour": [
           {
            "colorbar": {
             "outlinewidth": 0,
             "ticks": ""
            },
            "colorscale": [
             [
              0,
              "#0d0887"
             ],
             [
              0.1111111111111111,
              "#46039f"
             ],
             [
              0.2222222222222222,
              "#7201a8"
             ],
             [
              0.3333333333333333,
              "#9c179e"
             ],
             [
              0.4444444444444444,
              "#bd3786"
             ],
             [
              0.5555555555555556,
              "#d8576b"
             ],
             [
              0.6666666666666666,
              "#ed7953"
             ],
             [
              0.7777777777777778,
              "#fb9f3a"
             ],
             [
              0.8888888888888888,
              "#fdca26"
             ],
             [
              1,
              "#f0f921"
             ]
            ],
            "type": "contour"
           }
          ],
          "contourcarpet": [
           {
            "colorbar": {
             "outlinewidth": 0,
             "ticks": ""
            },
            "type": "contourcarpet"
           }
          ],
          "heatmap": [
           {
            "colorbar": {
             "outlinewidth": 0,
             "ticks": ""
            },
            "colorscale": [
             [
              0,
              "#0d0887"
             ],
             [
              0.1111111111111111,
              "#46039f"
             ],
             [
              0.2222222222222222,
              "#7201a8"
             ],
             [
              0.3333333333333333,
              "#9c179e"
             ],
             [
              0.4444444444444444,
              "#bd3786"
             ],
             [
              0.5555555555555556,
              "#d8576b"
             ],
             [
              0.6666666666666666,
              "#ed7953"
             ],
             [
              0.7777777777777778,
              "#fb9f3a"
             ],
             [
              0.8888888888888888,
              "#fdca26"
             ],
             [
              1,
              "#f0f921"
             ]
            ],
            "type": "heatmap"
           }
          ],
          "heatmapgl": [
           {
            "colorbar": {
             "outlinewidth": 0,
             "ticks": ""
            },
            "colorscale": [
             [
              0,
              "#0d0887"
             ],
             [
              0.1111111111111111,
              "#46039f"
             ],
             [
              0.2222222222222222,
              "#7201a8"
             ],
             [
              0.3333333333333333,
              "#9c179e"
             ],
             [
              0.4444444444444444,
              "#bd3786"
             ],
             [
              0.5555555555555556,
              "#d8576b"
             ],
             [
              0.6666666666666666,
              "#ed7953"
             ],
             [
              0.7777777777777778,
              "#fb9f3a"
             ],
             [
              0.8888888888888888,
              "#fdca26"
             ],
             [
              1,
              "#f0f921"
             ]
            ],
            "type": "heatmapgl"
           }
          ],
          "histogram": [
           {
            "marker": {
             "colorbar": {
              "outlinewidth": 0,
              "ticks": ""
             }
            },
            "type": "histogram"
           }
          ],
          "histogram2d": [
           {
            "colorbar": {
             "outlinewidth": 0,
             "ticks": ""
            },
            "colorscale": [
             [
              0,
              "#0d0887"
             ],
             [
              0.1111111111111111,
              "#46039f"
             ],
             [
              0.2222222222222222,
              "#7201a8"
             ],
             [
              0.3333333333333333,
              "#9c179e"
             ],
             [
              0.4444444444444444,
              "#bd3786"
             ],
             [
              0.5555555555555556,
              "#d8576b"
             ],
             [
              0.6666666666666666,
              "#ed7953"
             ],
             [
              0.7777777777777778,
              "#fb9f3a"
             ],
             [
              0.8888888888888888,
              "#fdca26"
             ],
             [
              1,
              "#f0f921"
             ]
            ],
            "type": "histogram2d"
           }
          ],
          "histogram2dcontour": [
           {
            "colorbar": {
             "outlinewidth": 0,
             "ticks": ""
            },
            "colorscale": [
             [
              0,
              "#0d0887"
             ],
             [
              0.1111111111111111,
              "#46039f"
             ],
             [
              0.2222222222222222,
              "#7201a8"
             ],
             [
              0.3333333333333333,
              "#9c179e"
             ],
             [
              0.4444444444444444,
              "#bd3786"
             ],
             [
              0.5555555555555556,
              "#d8576b"
             ],
             [
              0.6666666666666666,
              "#ed7953"
             ],
             [
              0.7777777777777778,
              "#fb9f3a"
             ],
             [
              0.8888888888888888,
              "#fdca26"
             ],
             [
              1,
              "#f0f921"
             ]
            ],
            "type": "histogram2dcontour"
           }
          ],
          "mesh3d": [
           {
            "colorbar": {
             "outlinewidth": 0,
             "ticks": ""
            },
            "type": "mesh3d"
           }
          ],
          "parcoords": [
           {
            "line": {
             "colorbar": {
              "outlinewidth": 0,
              "ticks": ""
             }
            },
            "type": "parcoords"
           }
          ],
          "pie": [
           {
            "automargin": true,
            "type": "pie"
           }
          ],
          "scatter": [
           {
            "marker": {
             "colorbar": {
              "outlinewidth": 0,
              "ticks": ""
             }
            },
            "type": "scatter"
           }
          ],
          "scatter3d": [
           {
            "line": {
             "colorbar": {
              "outlinewidth": 0,
              "ticks": ""
             }
            },
            "marker": {
             "colorbar": {
              "outlinewidth": 0,
              "ticks": ""
             }
            },
            "type": "scatter3d"
           }
          ],
          "scattercarpet": [
           {
            "marker": {
             "colorbar": {
              "outlinewidth": 0,
              "ticks": ""
             }
            },
            "type": "scattercarpet"
           }
          ],
          "scattergeo": [
           {
            "marker": {
             "colorbar": {
              "outlinewidth": 0,
              "ticks": ""
             }
            },
            "type": "scattergeo"
           }
          ],
          "scattergl": [
           {
            "marker": {
             "colorbar": {
              "outlinewidth": 0,
              "ticks": ""
             }
            },
            "type": "scattergl"
           }
          ],
          "scattermapbox": [
           {
            "marker": {
             "colorbar": {
              "outlinewidth": 0,
              "ticks": ""
             }
            },
            "type": "scattermapbox"
           }
          ],
          "scatterpolar": [
           {
            "marker": {
             "colorbar": {
              "outlinewidth": 0,
              "ticks": ""
             }
            },
            "type": "scatterpolar"
           }
          ],
          "scatterpolargl": [
           {
            "marker": {
             "colorbar": {
              "outlinewidth": 0,
              "ticks": ""
             }
            },
            "type": "scatterpolargl"
           }
          ],
          "scatterternary": [
           {
            "marker": {
             "colorbar": {
              "outlinewidth": 0,
              "ticks": ""
             }
            },
            "type": "scatterternary"
           }
          ],
          "surface": [
           {
            "colorbar": {
             "outlinewidth": 0,
             "ticks": ""
            },
            "colorscale": [
             [
              0,
              "#0d0887"
             ],
             [
              0.1111111111111111,
              "#46039f"
             ],
             [
              0.2222222222222222,
              "#7201a8"
             ],
             [
              0.3333333333333333,
              "#9c179e"
             ],
             [
              0.4444444444444444,
              "#bd3786"
             ],
             [
              0.5555555555555556,
              "#d8576b"
             ],
             [
              0.6666666666666666,
              "#ed7953"
             ],
             [
              0.7777777777777778,
              "#fb9f3a"
             ],
             [
              0.8888888888888888,
              "#fdca26"
             ],
             [
              1,
              "#f0f921"
             ]
            ],
            "type": "surface"
           }
          ],
          "table": [
           {
            "cells": {
             "fill": {
              "color": "#EBF0F8"
             },
             "line": {
              "color": "white"
             }
            },
            "header": {
             "fill": {
              "color": "#C8D4E3"
             },
             "line": {
              "color": "white"
             }
            },
            "type": "table"
           }
          ]
         },
         "layout": {
          "annotationdefaults": {
           "arrowcolor": "#2a3f5f",
           "arrowhead": 0,
           "arrowwidth": 1
          },
          "coloraxis": {
           "colorbar": {
            "outlinewidth": 0,
            "ticks": ""
           }
          },
          "colorscale": {
           "diverging": [
            [
             0,
             "#8e0152"
            ],
            [
             0.1,
             "#c51b7d"
            ],
            [
             0.2,
             "#de77ae"
            ],
            [
             0.3,
             "#f1b6da"
            ],
            [
             0.4,
             "#fde0ef"
            ],
            [
             0.5,
             "#f7f7f7"
            ],
            [
             0.6,
             "#e6f5d0"
            ],
            [
             0.7,
             "#b8e186"
            ],
            [
             0.8,
             "#7fbc41"
            ],
            [
             0.9,
             "#4d9221"
            ],
            [
             1,
             "#276419"
            ]
           ],
           "sequential": [
            [
             0,
             "#0d0887"
            ],
            [
             0.1111111111111111,
             "#46039f"
            ],
            [
             0.2222222222222222,
             "#7201a8"
            ],
            [
             0.3333333333333333,
             "#9c179e"
            ],
            [
             0.4444444444444444,
             "#bd3786"
            ],
            [
             0.5555555555555556,
             "#d8576b"
            ],
            [
             0.6666666666666666,
             "#ed7953"
            ],
            [
             0.7777777777777778,
             "#fb9f3a"
            ],
            [
             0.8888888888888888,
             "#fdca26"
            ],
            [
             1,
             "#f0f921"
            ]
           ],
           "sequentialminus": [
            [
             0,
             "#0d0887"
            ],
            [
             0.1111111111111111,
             "#46039f"
            ],
            [
             0.2222222222222222,
             "#7201a8"
            ],
            [
             0.3333333333333333,
             "#9c179e"
            ],
            [
             0.4444444444444444,
             "#bd3786"
            ],
            [
             0.5555555555555556,
             "#d8576b"
            ],
            [
             0.6666666666666666,
             "#ed7953"
            ],
            [
             0.7777777777777778,
             "#fb9f3a"
            ],
            [
             0.8888888888888888,
             "#fdca26"
            ],
            [
             1,
             "#f0f921"
            ]
           ]
          },
          "colorway": [
           "#636efa",
           "#EF553B",
           "#00cc96",
           "#ab63fa",
           "#FFA15A",
           "#19d3f3",
           "#FF6692",
           "#B6E880",
           "#FF97FF",
           "#FECB52"
          ],
          "font": {
           "color": "#2a3f5f"
          },
          "geo": {
           "bgcolor": "white",
           "lakecolor": "white",
           "landcolor": "#E5ECF6",
           "showlakes": true,
           "showland": true,
           "subunitcolor": "white"
          },
          "hoverlabel": {
           "align": "left"
          },
          "hovermode": "closest",
          "mapbox": {
           "style": "light"
          },
          "paper_bgcolor": "white",
          "plot_bgcolor": "#E5ECF6",
          "polar": {
           "angularaxis": {
            "gridcolor": "white",
            "linecolor": "white",
            "ticks": ""
           },
           "bgcolor": "#E5ECF6",
           "radialaxis": {
            "gridcolor": "white",
            "linecolor": "white",
            "ticks": ""
           }
          },
          "scene": {
           "xaxis": {
            "backgroundcolor": "#E5ECF6",
            "gridcolor": "white",
            "gridwidth": 2,
            "linecolor": "white",
            "showbackground": true,
            "ticks": "",
            "zerolinecolor": "white"
           },
           "yaxis": {
            "backgroundcolor": "#E5ECF6",
            "gridcolor": "white",
            "gridwidth": 2,
            "linecolor": "white",
            "showbackground": true,
            "ticks": "",
            "zerolinecolor": "white"
           },
           "zaxis": {
            "backgroundcolor": "#E5ECF6",
            "gridcolor": "white",
            "gridwidth": 2,
            "linecolor": "white",
            "showbackground": true,
            "ticks": "",
            "zerolinecolor": "white"
           }
          },
          "shapedefaults": {
           "line": {
            "color": "#2a3f5f"
           }
          },
          "ternary": {
           "aaxis": {
            "gridcolor": "white",
            "linecolor": "white",
            "ticks": ""
           },
           "baxis": {
            "gridcolor": "white",
            "linecolor": "white",
            "ticks": ""
           },
           "bgcolor": "#E5ECF6",
           "caxis": {
            "gridcolor": "white",
            "linecolor": "white",
            "ticks": ""
           }
          },
          "title": {
           "x": 0.05
          },
          "xaxis": {
           "automargin": true,
           "gridcolor": "white",
           "linecolor": "white",
           "ticks": "",
           "title": {
            "standoff": 15
           },
           "zerolinecolor": "white",
           "zerolinewidth": 2
          },
          "yaxis": {
           "automargin": true,
           "gridcolor": "white",
           "linecolor": "white",
           "ticks": "",
           "title": {
            "standoff": 15
           },
           "zerolinecolor": "white",
           "zerolinewidth": 2
          }
         }
        },
        "xaxis": {
         "anchor": "y",
         "domain": [
          0,
          1
         ],
         "title": {
          "text": "swung_of_pt_perc"
         }
        },
        "yaxis": {
         "anchor": "x",
         "domain": [
          0,
          1
         ],
         "title": {
          "text": "swung_re24"
         }
        }
       }
      },
      "text/html": [
       "<div>\n",
       "        \n",
       "        \n",
       "            <div id=\"a733546f-63e4-4ea2-9f59-27e4b296abc5\" class=\"plotly-graph-div\" style=\"height:525px; width:100%;\"></div>\n",
       "            <script type=\"text/javascript\">\n",
       "                require([\"plotly\"], function(Plotly) {\n",
       "                    window.PLOTLYENV=window.PLOTLYENV || {};\n",
       "                    \n",
       "                if (document.getElementById(\"a733546f-63e4-4ea2-9f59-27e4b296abc5\")) {\n",
       "                    Plotly.newPlot(\n",
       "                        'a733546f-63e4-4ea2-9f59-27e4b296abc5',\n",
       "                        [{\"hoverlabel\": {\"namelength\": 0}, \"hovertemplate\": \"color=Splitter<br>swung_of_pt_perc=%{x}<br>swung_re24=%{y}<br>pt_of_all_perc=%{marker.size}\", \"legendgroup\": \"Splitter\", \"marker\": {\"color\": \"#636efa\", \"size\": [0.008803877614160021], \"sizemode\": \"area\", \"sizeref\": 0.0009463489961299848, \"symbol\": \"circle\"}, \"mode\": \"markers\", \"name\": \"Splitter\", \"showlegend\": true, \"type\": \"scatter\", \"x\": [0.36683107274969173], \"xaxis\": \"x\", \"y\": [-0.04938084033613419], \"yaxis\": \"y\"}, {\"hoverlabel\": {\"namelength\": 0}, \"hovertemplate\": \"color=Two-Seam Fastball<br>swung_of_pt_perc=%{x}<br>swung_re24=%{y}<br>pt_of_all_perc=%{marker.size}\", \"legendgroup\": \"Two-Seam Fastball\", \"marker\": {\"color\": \"#EF553B\", \"size\": [0.09511661609774366], \"sizemode\": \"area\", \"sizeref\": 0.0009463489961299848, \"symbol\": \"circle\"}, \"mode\": \"markers\", \"name\": \"Two-Seam Fastball\", \"showlegend\": true, \"type\": \"scatter\", \"x\": [0.31767861218899796], \"xaxis\": \"x\", \"y\": [-0.016129153942877273], \"yaxis\": \"y\"}, {\"hoverlabel\": {\"namelength\": 0}, \"hovertemplate\": \"color=Four-Seam Fastball<br>swung_of_pt_perc=%{x}<br>swung_re24=%{y}<br>pt_of_all_perc=%{marker.size}\", \"legendgroup\": \"Four-Seam Fastball\", \"marker\": {\"color\": \"#00cc96\", \"size\": [0.3785395984519939], \"sizemode\": \"area\", \"sizeref\": 0.0009463489961299848, \"symbol\": \"circle\"}, \"mode\": \"markers\", \"name\": \"Four-Seam Fastball\", \"showlegend\": true, \"type\": \"scatter\", \"x\": [0.3087136691472735], \"xaxis\": \"x\", \"y\": [-0.0011194147700881421], \"yaxis\": \"y\"}, {\"hoverlabel\": {\"namelength\": 0}, \"hovertemplate\": \"color=Slider<br>swung_of_pt_perc=%{x}<br>swung_re24=%{y}<br>pt_of_all_perc=%{marker.size}\", \"legendgroup\": \"Slider\", \"marker\": {\"color\": \"#ab63fa\", \"size\": [0.16269261874650587], \"sizemode\": \"area\", \"sizeref\": 0.0009463489961299848, \"symbol\": \"circle\"}, \"mode\": \"markers\", \"name\": \"Slider\", \"showlegend\": true, \"type\": \"scatter\", \"x\": [0.3101020884766798], \"xaxis\": \"x\", \"y\": [-0.018379903173748987], \"yaxis\": \"y\"}, {\"hoverlabel\": {\"namelength\": 0}, \"hovertemplate\": \"color=Cutter<br>swung_of_pt_perc=%{x}<br>swung_re24=%{y}<br>pt_of_all_perc=%{marker.size}\", \"legendgroup\": \"Cutter\", \"marker\": {\"color\": \"#FFA15A\", \"size\": [0.058831830739753684], \"sizemode\": \"area\", \"sizeref\": 0.0009463489961299848, \"symbol\": \"circle\"}, \"mode\": \"markers\", \"name\": \"Cutter\", \"showlegend\": true, \"type\": \"scatter\", \"x\": [0.33831534274379554], \"xaxis\": \"x\", \"y\": [-0.010365339514589534], \"yaxis\": \"y\"}, {\"hoverlabel\": {\"namelength\": 0}, \"hovertemplate\": \"color=Sinker<br>swung_of_pt_perc=%{x}<br>swung_re24=%{y}<br>pt_of_all_perc=%{marker.size}\", \"legendgroup\": \"Sinker\", \"marker\": {\"color\": \"#19d3f3\", \"size\": [0.09093721673713749], \"sizemode\": \"area\", \"sizeref\": 0.0009463489961299848, \"symbol\": \"circle\"}, \"mode\": \"markers\", \"name\": \"Sinker\", \"showlegend\": true, \"type\": \"scatter\", \"x\": [0.3043452309896144], \"xaxis\": \"x\", \"y\": [0.002496038438909692], \"yaxis\": \"y\"}, {\"hoverlabel\": {\"namelength\": 0}, \"hovertemplate\": \"color=Knuckle Curve<br>swung_of_pt_perc=%{x}<br>swung_re24=%{y}<br>pt_of_all_perc=%{marker.size}\", \"legendgroup\": \"Knuckle Curve\", \"marker\": {\"color\": \"#FF6692\", \"size\": [0.022536189799008885], \"sizemode\": \"area\", \"sizeref\": 0.0009463489961299848, \"symbol\": \"circle\"}, \"mode\": \"markers\", \"name\": \"Knuckle Curve\", \"showlegend\": true, \"type\": \"scatter\", \"x\": [0.21676300578034682], \"xaxis\": \"x\", \"y\": [0.010954333333333354], \"yaxis\": \"y\"}, {\"hoverlabel\": {\"namelength\": 0}, \"hovertemplate\": \"color=Changeup<br>swung_of_pt_perc=%{x}<br>swung_re24=%{y}<br>pt_of_all_perc=%{marker.size}\", \"legendgroup\": \"Changeup\", \"marker\": {\"color\": \"#B6E880\", \"size\": [0.07322090568126924], \"sizemode\": \"area\", \"sizeref\": 0.0009463489961299848, \"symbol\": \"circle\"}, \"mode\": \"markers\", \"name\": \"Changeup\", \"showlegend\": true, \"type\": \"scatter\", \"x\": [0.35270570793180134], \"xaxis\": \"x\", \"y\": [-0.020642034468263522], \"yaxis\": \"y\"}, {\"hoverlabel\": {\"namelength\": 0}, \"hovertemplate\": \"color=Curveball<br>swung_of_pt_perc=%{x}<br>swung_re24=%{y}<br>pt_of_all_perc=%{marker.size}\", \"legendgroup\": \"Curveball\", \"marker\": {\"color\": \"#FF97FF\", \"size\": [0.10896833969289556], \"sizemode\": \"area\", \"sizeref\": 0.0009463489961299848, \"symbol\": \"circle\"}, \"mode\": \"markers\", \"name\": \"Curveball\", \"showlegend\": true, \"type\": \"scatter\", \"x\": [0.21149631400677427], \"xaxis\": \"x\", \"y\": [0.009900706547338696], \"yaxis\": \"y\"}],\n",
       "                        {\"legend\": {\"itemsizing\": \"constant\", \"title\": {\"text\": \"color\"}, \"tracegroupgap\": 0}, \"margin\": {\"t\": 60}, \"template\": {\"data\": {\"bar\": [{\"error_x\": {\"color\": \"#2a3f5f\"}, \"error_y\": {\"color\": \"#2a3f5f\"}, \"marker\": {\"line\": {\"color\": \"#E5ECF6\", \"width\": 0.5}}, \"type\": \"bar\"}], \"barpolar\": [{\"marker\": {\"line\": {\"color\": \"#E5ECF6\", \"width\": 0.5}}, \"type\": \"barpolar\"}], \"carpet\": [{\"aaxis\": {\"endlinecolor\": \"#2a3f5f\", \"gridcolor\": \"white\", \"linecolor\": \"white\", \"minorgridcolor\": \"white\", \"startlinecolor\": \"#2a3f5f\"}, \"baxis\": {\"endlinecolor\": \"#2a3f5f\", \"gridcolor\": \"white\", \"linecolor\": \"white\", \"minorgridcolor\": \"white\", \"startlinecolor\": \"#2a3f5f\"}, \"type\": \"carpet\"}], \"choropleth\": [{\"colorbar\": {\"outlinewidth\": 0, \"ticks\": \"\"}, \"type\": \"choropleth\"}], \"contour\": [{\"colorbar\": {\"outlinewidth\": 0, \"ticks\": \"\"}, \"colorscale\": [[0.0, \"#0d0887\"], [0.1111111111111111, \"#46039f\"], [0.2222222222222222, \"#7201a8\"], [0.3333333333333333, \"#9c179e\"], [0.4444444444444444, \"#bd3786\"], [0.5555555555555556, \"#d8576b\"], [0.6666666666666666, \"#ed7953\"], [0.7777777777777778, \"#fb9f3a\"], [0.8888888888888888, \"#fdca26\"], [1.0, \"#f0f921\"]], \"type\": \"contour\"}], \"contourcarpet\": [{\"colorbar\": {\"outlinewidth\": 0, \"ticks\": \"\"}, \"type\": \"contourcarpet\"}], \"heatmap\": [{\"colorbar\": {\"outlinewidth\": 0, \"ticks\": \"\"}, \"colorscale\": [[0.0, \"#0d0887\"], [0.1111111111111111, \"#46039f\"], [0.2222222222222222, \"#7201a8\"], [0.3333333333333333, \"#9c179e\"], [0.4444444444444444, \"#bd3786\"], [0.5555555555555556, \"#d8576b\"], [0.6666666666666666, \"#ed7953\"], [0.7777777777777778, \"#fb9f3a\"], [0.8888888888888888, \"#fdca26\"], [1.0, \"#f0f921\"]], \"type\": \"heatmap\"}], \"heatmapgl\": [{\"colorbar\": {\"outlinewidth\": 0, \"ticks\": \"\"}, \"colorscale\": [[0.0, \"#0d0887\"], [0.1111111111111111, \"#46039f\"], [0.2222222222222222, \"#7201a8\"], [0.3333333333333333, \"#9c179e\"], [0.4444444444444444, \"#bd3786\"], [0.5555555555555556, \"#d8576b\"], [0.6666666666666666, \"#ed7953\"], [0.7777777777777778, \"#fb9f3a\"], [0.8888888888888888, \"#fdca26\"], [1.0, \"#f0f921\"]], \"type\": \"heatmapgl\"}], \"histogram\": [{\"marker\": {\"colorbar\": {\"outlinewidth\": 0, \"ticks\": \"\"}}, \"type\": \"histogram\"}], \"histogram2d\": [{\"colorbar\": {\"outlinewidth\": 0, \"ticks\": \"\"}, \"colorscale\": [[0.0, \"#0d0887\"], [0.1111111111111111, \"#46039f\"], [0.2222222222222222, \"#7201a8\"], [0.3333333333333333, \"#9c179e\"], [0.4444444444444444, \"#bd3786\"], [0.5555555555555556, \"#d8576b\"], [0.6666666666666666, \"#ed7953\"], [0.7777777777777778, \"#fb9f3a\"], [0.8888888888888888, \"#fdca26\"], [1.0, \"#f0f921\"]], \"type\": \"histogram2d\"}], \"histogram2dcontour\": [{\"colorbar\": {\"outlinewidth\": 0, \"ticks\": \"\"}, \"colorscale\": [[0.0, \"#0d0887\"], [0.1111111111111111, \"#46039f\"], [0.2222222222222222, \"#7201a8\"], [0.3333333333333333, \"#9c179e\"], [0.4444444444444444, \"#bd3786\"], [0.5555555555555556, \"#d8576b\"], [0.6666666666666666, \"#ed7953\"], [0.7777777777777778, \"#fb9f3a\"], [0.8888888888888888, \"#fdca26\"], [1.0, \"#f0f921\"]], \"type\": \"histogram2dcontour\"}], \"mesh3d\": [{\"colorbar\": {\"outlinewidth\": 0, \"ticks\": \"\"}, \"type\": \"mesh3d\"}], \"parcoords\": [{\"line\": {\"colorbar\": {\"outlinewidth\": 0, \"ticks\": \"\"}}, \"type\": \"parcoords\"}], \"pie\": [{\"automargin\": true, \"type\": \"pie\"}], \"scatter\": [{\"marker\": {\"colorbar\": {\"outlinewidth\": 0, \"ticks\": \"\"}}, \"type\": \"scatter\"}], \"scatter3d\": [{\"line\": {\"colorbar\": {\"outlinewidth\": 0, \"ticks\": \"\"}}, \"marker\": {\"colorbar\": {\"outlinewidth\": 0, \"ticks\": \"\"}}, \"type\": \"scatter3d\"}], \"scattercarpet\": [{\"marker\": {\"colorbar\": {\"outlinewidth\": 0, \"ticks\": \"\"}}, \"type\": \"scattercarpet\"}], \"scattergeo\": [{\"marker\": {\"colorbar\": {\"outlinewidth\": 0, \"ticks\": \"\"}}, \"type\": \"scattergeo\"}], \"scattergl\": [{\"marker\": {\"colorbar\": {\"outlinewidth\": 0, \"ticks\": \"\"}}, \"type\": \"scattergl\"}], \"scattermapbox\": [{\"marker\": {\"colorbar\": {\"outlinewidth\": 0, \"ticks\": \"\"}}, \"type\": \"scattermapbox\"}], \"scatterpolar\": [{\"marker\": {\"colorbar\": {\"outlinewidth\": 0, \"ticks\": \"\"}}, \"type\": \"scatterpolar\"}], \"scatterpolargl\": [{\"marker\": {\"colorbar\": {\"outlinewidth\": 0, \"ticks\": \"\"}}, \"type\": \"scatterpolargl\"}], \"scatterternary\": [{\"marker\": {\"colorbar\": {\"outlinewidth\": 0, \"ticks\": \"\"}}, \"type\": \"scatterternary\"}], \"surface\": [{\"colorbar\": {\"outlinewidth\": 0, \"ticks\": \"\"}, \"colorscale\": [[0.0, \"#0d0887\"], [0.1111111111111111, \"#46039f\"], [0.2222222222222222, \"#7201a8\"], [0.3333333333333333, \"#9c179e\"], [0.4444444444444444, \"#bd3786\"], [0.5555555555555556, \"#d8576b\"], [0.6666666666666666, \"#ed7953\"], [0.7777777777777778, \"#fb9f3a\"], [0.8888888888888888, \"#fdca26\"], [1.0, \"#f0f921\"]], \"type\": \"surface\"}], \"table\": [{\"cells\": {\"fill\": {\"color\": \"#EBF0F8\"}, \"line\": {\"color\": \"white\"}}, \"header\": {\"fill\": {\"color\": \"#C8D4E3\"}, \"line\": {\"color\": \"white\"}}, \"type\": \"table\"}]}, \"layout\": {\"annotationdefaults\": {\"arrowcolor\": \"#2a3f5f\", \"arrowhead\": 0, \"arrowwidth\": 1}, \"coloraxis\": {\"colorbar\": {\"outlinewidth\": 0, \"ticks\": \"\"}}, \"colorscale\": {\"diverging\": [[0, \"#8e0152\"], [0.1, \"#c51b7d\"], [0.2, \"#de77ae\"], [0.3, \"#f1b6da\"], [0.4, \"#fde0ef\"], [0.5, \"#f7f7f7\"], [0.6, \"#e6f5d0\"], [0.7, \"#b8e186\"], [0.8, \"#7fbc41\"], [0.9, \"#4d9221\"], [1, \"#276419\"]], \"sequential\": [[0.0, \"#0d0887\"], [0.1111111111111111, \"#46039f\"], [0.2222222222222222, \"#7201a8\"], [0.3333333333333333, \"#9c179e\"], [0.4444444444444444, \"#bd3786\"], [0.5555555555555556, \"#d8576b\"], [0.6666666666666666, \"#ed7953\"], [0.7777777777777778, \"#fb9f3a\"], [0.8888888888888888, \"#fdca26\"], [1.0, \"#f0f921\"]], \"sequentialminus\": [[0.0, \"#0d0887\"], [0.1111111111111111, \"#46039f\"], [0.2222222222222222, \"#7201a8\"], [0.3333333333333333, \"#9c179e\"], [0.4444444444444444, \"#bd3786\"], [0.5555555555555556, \"#d8576b\"], [0.6666666666666666, \"#ed7953\"], [0.7777777777777778, \"#fb9f3a\"], [0.8888888888888888, \"#fdca26\"], [1.0, \"#f0f921\"]]}, \"colorway\": [\"#636efa\", \"#EF553B\", \"#00cc96\", \"#ab63fa\", \"#FFA15A\", \"#19d3f3\", \"#FF6692\", \"#B6E880\", \"#FF97FF\", \"#FECB52\"], \"font\": {\"color\": \"#2a3f5f\"}, \"geo\": {\"bgcolor\": \"white\", \"lakecolor\": \"white\", \"landcolor\": \"#E5ECF6\", \"showlakes\": true, \"showland\": true, \"subunitcolor\": \"white\"}, \"hoverlabel\": {\"align\": \"left\"}, \"hovermode\": \"closest\", \"mapbox\": {\"style\": \"light\"}, \"paper_bgcolor\": \"white\", \"plot_bgcolor\": \"#E5ECF6\", \"polar\": {\"angularaxis\": {\"gridcolor\": \"white\", \"linecolor\": \"white\", \"ticks\": \"\"}, \"bgcolor\": \"#E5ECF6\", \"radialaxis\": {\"gridcolor\": \"white\", \"linecolor\": \"white\", \"ticks\": \"\"}}, \"scene\": {\"xaxis\": {\"backgroundcolor\": \"#E5ECF6\", \"gridcolor\": \"white\", \"gridwidth\": 2, \"linecolor\": \"white\", \"showbackground\": true, \"ticks\": \"\", \"zerolinecolor\": \"white\"}, \"yaxis\": {\"backgroundcolor\": \"#E5ECF6\", \"gridcolor\": \"white\", \"gridwidth\": 2, \"linecolor\": \"white\", \"showbackground\": true, \"ticks\": \"\", \"zerolinecolor\": \"white\"}, \"zaxis\": {\"backgroundcolor\": \"#E5ECF6\", \"gridcolor\": \"white\", \"gridwidth\": 2, \"linecolor\": \"white\", \"showbackground\": true, \"ticks\": \"\", \"zerolinecolor\": \"white\"}}, \"shapedefaults\": {\"line\": {\"color\": \"#2a3f5f\"}}, \"ternary\": {\"aaxis\": {\"gridcolor\": \"white\", \"linecolor\": \"white\", \"ticks\": \"\"}, \"baxis\": {\"gridcolor\": \"white\", \"linecolor\": \"white\", \"ticks\": \"\"}, \"bgcolor\": \"#E5ECF6\", \"caxis\": {\"gridcolor\": \"white\", \"linecolor\": \"white\", \"ticks\": \"\"}}, \"title\": {\"x\": 0.05}, \"xaxis\": {\"automargin\": true, \"gridcolor\": \"white\", \"linecolor\": \"white\", \"ticks\": \"\", \"title\": {\"standoff\": 15}, \"zerolinecolor\": \"white\", \"zerolinewidth\": 2}, \"yaxis\": {\"automargin\": true, \"gridcolor\": \"white\", \"linecolor\": \"white\", \"ticks\": \"\", \"title\": {\"standoff\": 15}, \"zerolinecolor\": \"white\", \"zerolinewidth\": 2}}}, \"xaxis\": {\"anchor\": \"y\", \"domain\": [0.0, 1.0], \"title\": {\"text\": \"swung_of_pt_perc\"}}, \"yaxis\": {\"anchor\": \"x\", \"domain\": [0.0, 1.0], \"title\": {\"text\": \"swung_re24\"}}},\n",
       "                        {\"responsive\": true}\n",
       "                    ).then(function(){\n",
       "                            \n",
       "var gd = document.getElementById('a733546f-63e4-4ea2-9f59-27e4b296abc5');\n",
       "var x = new MutationObserver(function (mutations, observer) {{\n",
       "        var display = window.getComputedStyle(gd).display;\n",
       "        if (!display || display === 'none') {{\n",
       "            console.log([gd, 'removed!']);\n",
       "            Plotly.purge(gd);\n",
       "            observer.disconnect();\n",
       "        }}\n",
       "}});\n",
       "\n",
       "// Listen for the removal of the full notebook cells\n",
       "var notebookContainer = gd.closest('#notebook-container');\n",
       "if (notebookContainer) {{\n",
       "    x.observe(notebookContainer, {childList: true});\n",
       "}}\n",
       "\n",
       "// Listen for the clearing of the current output cell\n",
       "var outputEl = gd.closest('.output');\n",
       "if (outputEl) {{\n",
       "    x.observe(outputEl, {childList: true});\n",
       "}}\n",
       "\n",
       "                        })\n",
       "                };\n",
       "                });\n",
       "            </script>\n",
       "        </div>"
      ]
     },
     "metadata": {},
     "output_type": "display_data"
    }
   ],
   "source": [
    "# Plot swung percent vs re24\n",
    "filt_merged_all_df = merged_all_df[~merged_all_df.index.isin(['Eephus','Knuckle Ball'])]\n",
    "fig = px.scatter(filt_merged_all_df, x='swung_of_pt_perc', y='swung_re24', color=filt_merged_all_df.index, size='pt_of_all_perc')#, hover_data=[filt_merged_all_df.index])\n",
    "fig.show()"
   ]
  },
  {
   "cell_type": "code",
   "execution_count": 17,
   "metadata": {},
   "outputs": [
    {
     "data": {
      "application/vnd.plotly.v1+json": {
       "config": {
        "plotlyServerURL": "https://plot.ly"
       },
       "data": [
        {
         "hoverlabel": {
          "namelength": 0
         },
         "hovertemplate": "color=Splitter<br>inplay_of_pt_perc=%{x}<br>inplay_re24=%{y}<br>pt_of_all_perc=%{marker.size}",
         "legendgroup": "Splitter",
         "marker": {
          "color": "#636efa",
          "size": [
           0.008803877614160021
          ],
          "sizemode": "area",
          "sizeref": 0.0009463489961299848,
          "symbol": "circle"
         },
         "mode": "markers",
         "name": "Splitter",
         "showlegend": true,
         "type": "scatter",
         "x": [
          0.11467324290998766
         ],
         "xaxis": "x",
         "y": [
          0.012744086021505353
         ],
         "yaxis": "y"
        },
        {
         "hoverlabel": {
          "namelength": 0
         },
         "hovertemplate": "color=Two-Seam Fastball<br>inplay_of_pt_perc=%{x}<br>inplay_re24=%{y}<br>pt_of_all_perc=%{marker.size}",
         "legendgroup": "Two-Seam Fastball",
         "marker": {
          "color": "#EF553B",
          "size": [
           0.09511661609774366
          ],
          "sizemode": "area",
          "sizeref": 0.0009463489961299848,
          "symbol": "circle"
         },
         "mode": "markers",
         "name": "Two-Seam Fastball",
         "showlegend": true,
         "type": "scatter",
         "x": [
          0.14009358593928325
         ],
         "xaxis": "x",
         "y": [
          0.04422285132382922
         ],
         "yaxis": "y"
        },
        {
         "hoverlabel": {
          "namelength": 0
         },
         "hovertemplate": "color=Four-Seam Fastball<br>inplay_of_pt_perc=%{x}<br>inplay_re24=%{y}<br>pt_of_all_perc=%{marker.size}",
         "legendgroup": "Four-Seam Fastball",
         "marker": {
          "color": "#00cc96",
          "size": [
           0.3785395984519939
          ],
          "sizemode": "area",
          "sizeref": 0.0009463489961299848,
          "symbol": "circle"
         },
         "mode": "markers",
         "name": "Four-Seam Fastball",
         "showlegend": true,
         "type": "scatter",
         "x": [
          0.10695286847048364
         ],
         "xaxis": "x",
         "y": [
          0.08754989945032672
         ],
         "yaxis": "y"
        },
        {
         "hoverlabel": {
          "namelength": 0
         },
         "hovertemplate": "color=Slider<br>inplay_of_pt_perc=%{x}<br>inplay_re24=%{y}<br>pt_of_all_perc=%{marker.size}",
         "legendgroup": "Slider",
         "marker": {
          "color": "#ab63fa",
          "size": [
           0.16269261874650587
          ],
          "sizemode": "area",
          "sizeref": 0.0009463489961299848,
          "symbol": "circle"
         },
         "mode": "markers",
         "name": "Slider",
         "showlegend": true,
         "type": "scatter",
         "x": [
          0.09551611396543672
         ],
         "xaxis": "x",
         "y": [
          0.06537073000349304
         ],
         "yaxis": "y"
        },
        {
         "hoverlabel": {
          "namelength": 0
         },
         "hovertemplate": "color=Cutter<br>inplay_of_pt_perc=%{x}<br>inplay_re24=%{y}<br>pt_of_all_perc=%{marker.size}",
         "legendgroup": "Cutter",
         "marker": {
          "color": "#FFA15A",
          "size": [
           0.058831830739753684
          ],
          "sizemode": "area",
          "sizeref": 0.0009463489961299848,
          "symbol": "circle"
         },
         "mode": "markers",
         "name": "Cutter",
         "showlegend": true,
         "type": "scatter",
         "x": [
          0.12344312205923055
         ],
         "xaxis": "x",
         "y": [
          0.0680399103139016
         ],
         "yaxis": "y"
        },
        {
         "hoverlabel": {
          "namelength": 0
         },
         "hovertemplate": "color=Sinker<br>inplay_of_pt_perc=%{x}<br>inplay_re24=%{y}<br>pt_of_all_perc=%{marker.size}",
         "legendgroup": "Sinker",
         "marker": {
          "color": "#19d3f3",
          "size": [
           0.09093721673713749
          ],
          "sizemode": "area",
          "sizeref": 0.0009463489961299848,
          "symbol": "circle"
         },
         "mode": "markers",
         "name": "Sinker",
         "showlegend": true,
         "type": "scatter",
         "x": [
          0.1367434642473439
         ],
         "xaxis": "x",
         "y": [
          0.04913819292885266
         ],
         "yaxis": "y"
        },
        {
         "hoverlabel": {
          "namelength": 0
         },
         "hovertemplate": "color=Knuckle Curve<br>inplay_of_pt_perc=%{x}<br>inplay_re24=%{y}<br>pt_of_all_perc=%{marker.size}",
         "legendgroup": "Knuckle Curve",
         "marker": {
          "color": "#FF6692",
          "size": [
           0.022536189799008885
          ],
          "sizemode": "area",
          "sizeref": 0.0009463489961299848,
          "symbol": "circle"
         },
         "mode": "markers",
         "name": "Knuckle Curve",
         "showlegend": true,
         "type": "scatter",
         "x": [
          0.06840077071290944
         ],
         "xaxis": "x",
         "y": [
          0.07477183098591553
         ],
         "yaxis": "y"
        },
        {
         "hoverlabel": {
          "namelength": 0
         },
         "hovertemplate": "color=Changeup<br>inplay_of_pt_perc=%{x}<br>inplay_re24=%{y}<br>pt_of_all_perc=%{marker.size}",
         "legendgroup": "Changeup",
         "marker": {
          "color": "#B6E880",
          "size": [
           0.07322090568126924
          ],
          "sizemode": "area",
          "sizeref": 0.0009463489961299848,
          "symbol": "circle"
         },
         "mode": "markers",
         "name": "Changeup",
         "showlegend": true,
         "type": "scatter",
         "x": [
          0.12661230541141585
         ],
         "xaxis": "x",
         "y": [
          0.033926463700234326
         ],
         "yaxis": "y"
        },
        {
         "hoverlabel": {
          "namelength": 0
         },
         "hovertemplate": "color=Curveball<br>inplay_of_pt_perc=%{x}<br>inplay_re24=%{y}<br>pt_of_all_perc=%{marker.size}",
         "legendgroup": "Curveball",
         "marker": {
          "color": "#FF97FF",
          "size": [
           0.10896833969289556
          ],
          "sizemode": "area",
          "sizeref": 0.0009463489961299848,
          "symbol": "circle"
         },
         "mode": "markers",
         "name": "Curveball",
         "showlegend": true,
         "type": "scatter",
         "x": [
          0.07665869695158398
         ],
         "xaxis": "x",
         "y": [
          0.09972261208577031
         ],
         "yaxis": "y"
        }
       ],
       "layout": {
        "legend": {
         "itemsizing": "constant",
         "title": {
          "text": "color"
         },
         "tracegroupgap": 0
        },
        "margin": {
         "t": 60
        },
        "template": {
         "data": {
          "bar": [
           {
            "error_x": {
             "color": "#2a3f5f"
            },
            "error_y": {
             "color": "#2a3f5f"
            },
            "marker": {
             "line": {
              "color": "#E5ECF6",
              "width": 0.5
             }
            },
            "type": "bar"
           }
          ],
          "barpolar": [
           {
            "marker": {
             "line": {
              "color": "#E5ECF6",
              "width": 0.5
             }
            },
            "type": "barpolar"
           }
          ],
          "carpet": [
           {
            "aaxis": {
             "endlinecolor": "#2a3f5f",
             "gridcolor": "white",
             "linecolor": "white",
             "minorgridcolor": "white",
             "startlinecolor": "#2a3f5f"
            },
            "baxis": {
             "endlinecolor": "#2a3f5f",
             "gridcolor": "white",
             "linecolor": "white",
             "minorgridcolor": "white",
             "startlinecolor": "#2a3f5f"
            },
            "type": "carpet"
           }
          ],
          "choropleth": [
           {
            "colorbar": {
             "outlinewidth": 0,
             "ticks": ""
            },
            "type": "choropleth"
           }
          ],
          "contour": [
           {
            "colorbar": {
             "outlinewidth": 0,
             "ticks": ""
            },
            "colorscale": [
             [
              0,
              "#0d0887"
             ],
             [
              0.1111111111111111,
              "#46039f"
             ],
             [
              0.2222222222222222,
              "#7201a8"
             ],
             [
              0.3333333333333333,
              "#9c179e"
             ],
             [
              0.4444444444444444,
              "#bd3786"
             ],
             [
              0.5555555555555556,
              "#d8576b"
             ],
             [
              0.6666666666666666,
              "#ed7953"
             ],
             [
              0.7777777777777778,
              "#fb9f3a"
             ],
             [
              0.8888888888888888,
              "#fdca26"
             ],
             [
              1,
              "#f0f921"
             ]
            ],
            "type": "contour"
           }
          ],
          "contourcarpet": [
           {
            "colorbar": {
             "outlinewidth": 0,
             "ticks": ""
            },
            "type": "contourcarpet"
           }
          ],
          "heatmap": [
           {
            "colorbar": {
             "outlinewidth": 0,
             "ticks": ""
            },
            "colorscale": [
             [
              0,
              "#0d0887"
             ],
             [
              0.1111111111111111,
              "#46039f"
             ],
             [
              0.2222222222222222,
              "#7201a8"
             ],
             [
              0.3333333333333333,
              "#9c179e"
             ],
             [
              0.4444444444444444,
              "#bd3786"
             ],
             [
              0.5555555555555556,
              "#d8576b"
             ],
             [
              0.6666666666666666,
              "#ed7953"
             ],
             [
              0.7777777777777778,
              "#fb9f3a"
             ],
             [
              0.8888888888888888,
              "#fdca26"
             ],
             [
              1,
              "#f0f921"
             ]
            ],
            "type": "heatmap"
           }
          ],
          "heatmapgl": [
           {
            "colorbar": {
             "outlinewidth": 0,
             "ticks": ""
            },
            "colorscale": [
             [
              0,
              "#0d0887"
             ],
             [
              0.1111111111111111,
              "#46039f"
             ],
             [
              0.2222222222222222,
              "#7201a8"
             ],
             [
              0.3333333333333333,
              "#9c179e"
             ],
             [
              0.4444444444444444,
              "#bd3786"
             ],
             [
              0.5555555555555556,
              "#d8576b"
             ],
             [
              0.6666666666666666,
              "#ed7953"
             ],
             [
              0.7777777777777778,
              "#fb9f3a"
             ],
             [
              0.8888888888888888,
              "#fdca26"
             ],
             [
              1,
              "#f0f921"
             ]
            ],
            "type": "heatmapgl"
           }
          ],
          "histogram": [
           {
            "marker": {
             "colorbar": {
              "outlinewidth": 0,
              "ticks": ""
             }
            },
            "type": "histogram"
           }
          ],
          "histogram2d": [
           {
            "colorbar": {
             "outlinewidth": 0,
             "ticks": ""
            },
            "colorscale": [
             [
              0,
              "#0d0887"
             ],
             [
              0.1111111111111111,
              "#46039f"
             ],
             [
              0.2222222222222222,
              "#7201a8"
             ],
             [
              0.3333333333333333,
              "#9c179e"
             ],
             [
              0.4444444444444444,
              "#bd3786"
             ],
             [
              0.5555555555555556,
              "#d8576b"
             ],
             [
              0.6666666666666666,
              "#ed7953"
             ],
             [
              0.7777777777777778,
              "#fb9f3a"
             ],
             [
              0.8888888888888888,
              "#fdca26"
             ],
             [
              1,
              "#f0f921"
             ]
            ],
            "type": "histogram2d"
           }
          ],
          "histogram2dcontour": [
           {
            "colorbar": {
             "outlinewidth": 0,
             "ticks": ""
            },
            "colorscale": [
             [
              0,
              "#0d0887"
             ],
             [
              0.1111111111111111,
              "#46039f"
             ],
             [
              0.2222222222222222,
              "#7201a8"
             ],
             [
              0.3333333333333333,
              "#9c179e"
             ],
             [
              0.4444444444444444,
              "#bd3786"
             ],
             [
              0.5555555555555556,
              "#d8576b"
             ],
             [
              0.6666666666666666,
              "#ed7953"
             ],
             [
              0.7777777777777778,
              "#fb9f3a"
             ],
             [
              0.8888888888888888,
              "#fdca26"
             ],
             [
              1,
              "#f0f921"
             ]
            ],
            "type": "histogram2dcontour"
           }
          ],
          "mesh3d": [
           {
            "colorbar": {
             "outlinewidth": 0,
             "ticks": ""
            },
            "type": "mesh3d"
           }
          ],
          "parcoords": [
           {
            "line": {
             "colorbar": {
              "outlinewidth": 0,
              "ticks": ""
             }
            },
            "type": "parcoords"
           }
          ],
          "pie": [
           {
            "automargin": true,
            "type": "pie"
           }
          ],
          "scatter": [
           {
            "marker": {
             "colorbar": {
              "outlinewidth": 0,
              "ticks": ""
             }
            },
            "type": "scatter"
           }
          ],
          "scatter3d": [
           {
            "line": {
             "colorbar": {
              "outlinewidth": 0,
              "ticks": ""
             }
            },
            "marker": {
             "colorbar": {
              "outlinewidth": 0,
              "ticks": ""
             }
            },
            "type": "scatter3d"
           }
          ],
          "scattercarpet": [
           {
            "marker": {
             "colorbar": {
              "outlinewidth": 0,
              "ticks": ""
             }
            },
            "type": "scattercarpet"
           }
          ],
          "scattergeo": [
           {
            "marker": {
             "colorbar": {
              "outlinewidth": 0,
              "ticks": ""
             }
            },
            "type": "scattergeo"
           }
          ],
          "scattergl": [
           {
            "marker": {
             "colorbar": {
              "outlinewidth": 0,
              "ticks": ""
             }
            },
            "type": "scattergl"
           }
          ],
          "scattermapbox": [
           {
            "marker": {
             "colorbar": {
              "outlinewidth": 0,
              "ticks": ""
             }
            },
            "type": "scattermapbox"
           }
          ],
          "scatterpolar": [
           {
            "marker": {
             "colorbar": {
              "outlinewidth": 0,
              "ticks": ""
             }
            },
            "type": "scatterpolar"
           }
          ],
          "scatterpolargl": [
           {
            "marker": {
             "colorbar": {
              "outlinewidth": 0,
              "ticks": ""
             }
            },
            "type": "scatterpolargl"
           }
          ],
          "scatterternary": [
           {
            "marker": {
             "colorbar": {
              "outlinewidth": 0,
              "ticks": ""
             }
            },
            "type": "scatterternary"
           }
          ],
          "surface": [
           {
            "colorbar": {
             "outlinewidth": 0,
             "ticks": ""
            },
            "colorscale": [
             [
              0,
              "#0d0887"
             ],
             [
              0.1111111111111111,
              "#46039f"
             ],
             [
              0.2222222222222222,
              "#7201a8"
             ],
             [
              0.3333333333333333,
              "#9c179e"
             ],
             [
              0.4444444444444444,
              "#bd3786"
             ],
             [
              0.5555555555555556,
              "#d8576b"
             ],
             [
              0.6666666666666666,
              "#ed7953"
             ],
             [
              0.7777777777777778,
              "#fb9f3a"
             ],
             [
              0.8888888888888888,
              "#fdca26"
             ],
             [
              1,
              "#f0f921"
             ]
            ],
            "type": "surface"
           }
          ],
          "table": [
           {
            "cells": {
             "fill": {
              "color": "#EBF0F8"
             },
             "line": {
              "color": "white"
             }
            },
            "header": {
             "fill": {
              "color": "#C8D4E3"
             },
             "line": {
              "color": "white"
             }
            },
            "type": "table"
           }
          ]
         },
         "layout": {
          "annotationdefaults": {
           "arrowcolor": "#2a3f5f",
           "arrowhead": 0,
           "arrowwidth": 1
          },
          "coloraxis": {
           "colorbar": {
            "outlinewidth": 0,
            "ticks": ""
           }
          },
          "colorscale": {
           "diverging": [
            [
             0,
             "#8e0152"
            ],
            [
             0.1,
             "#c51b7d"
            ],
            [
             0.2,
             "#de77ae"
            ],
            [
             0.3,
             "#f1b6da"
            ],
            [
             0.4,
             "#fde0ef"
            ],
            [
             0.5,
             "#f7f7f7"
            ],
            [
             0.6,
             "#e6f5d0"
            ],
            [
             0.7,
             "#b8e186"
            ],
            [
             0.8,
             "#7fbc41"
            ],
            [
             0.9,
             "#4d9221"
            ],
            [
             1,
             "#276419"
            ]
           ],
           "sequential": [
            [
             0,
             "#0d0887"
            ],
            [
             0.1111111111111111,
             "#46039f"
            ],
            [
             0.2222222222222222,
             "#7201a8"
            ],
            [
             0.3333333333333333,
             "#9c179e"
            ],
            [
             0.4444444444444444,
             "#bd3786"
            ],
            [
             0.5555555555555556,
             "#d8576b"
            ],
            [
             0.6666666666666666,
             "#ed7953"
            ],
            [
             0.7777777777777778,
             "#fb9f3a"
            ],
            [
             0.8888888888888888,
             "#fdca26"
            ],
            [
             1,
             "#f0f921"
            ]
           ],
           "sequentialminus": [
            [
             0,
             "#0d0887"
            ],
            [
             0.1111111111111111,
             "#46039f"
            ],
            [
             0.2222222222222222,
             "#7201a8"
            ],
            [
             0.3333333333333333,
             "#9c179e"
            ],
            [
             0.4444444444444444,
             "#bd3786"
            ],
            [
             0.5555555555555556,
             "#d8576b"
            ],
            [
             0.6666666666666666,
             "#ed7953"
            ],
            [
             0.7777777777777778,
             "#fb9f3a"
            ],
            [
             0.8888888888888888,
             "#fdca26"
            ],
            [
             1,
             "#f0f921"
            ]
           ]
          },
          "colorway": [
           "#636efa",
           "#EF553B",
           "#00cc96",
           "#ab63fa",
           "#FFA15A",
           "#19d3f3",
           "#FF6692",
           "#B6E880",
           "#FF97FF",
           "#FECB52"
          ],
          "font": {
           "color": "#2a3f5f"
          },
          "geo": {
           "bgcolor": "white",
           "lakecolor": "white",
           "landcolor": "#E5ECF6",
           "showlakes": true,
           "showland": true,
           "subunitcolor": "white"
          },
          "hoverlabel": {
           "align": "left"
          },
          "hovermode": "closest",
          "mapbox": {
           "style": "light"
          },
          "paper_bgcolor": "white",
          "plot_bgcolor": "#E5ECF6",
          "polar": {
           "angularaxis": {
            "gridcolor": "white",
            "linecolor": "white",
            "ticks": ""
           },
           "bgcolor": "#E5ECF6",
           "radialaxis": {
            "gridcolor": "white",
            "linecolor": "white",
            "ticks": ""
           }
          },
          "scene": {
           "xaxis": {
            "backgroundcolor": "#E5ECF6",
            "gridcolor": "white",
            "gridwidth": 2,
            "linecolor": "white",
            "showbackground": true,
            "ticks": "",
            "zerolinecolor": "white"
           },
           "yaxis": {
            "backgroundcolor": "#E5ECF6",
            "gridcolor": "white",
            "gridwidth": 2,
            "linecolor": "white",
            "showbackground": true,
            "ticks": "",
            "zerolinecolor": "white"
           },
           "zaxis": {
            "backgroundcolor": "#E5ECF6",
            "gridcolor": "white",
            "gridwidth": 2,
            "linecolor": "white",
            "showbackground": true,
            "ticks": "",
            "zerolinecolor": "white"
           }
          },
          "shapedefaults": {
           "line": {
            "color": "#2a3f5f"
           }
          },
          "ternary": {
           "aaxis": {
            "gridcolor": "white",
            "linecolor": "white",
            "ticks": ""
           },
           "baxis": {
            "gridcolor": "white",
            "linecolor": "white",
            "ticks": ""
           },
           "bgcolor": "#E5ECF6",
           "caxis": {
            "gridcolor": "white",
            "linecolor": "white",
            "ticks": ""
           }
          },
          "title": {
           "x": 0.05
          },
          "xaxis": {
           "automargin": true,
           "gridcolor": "white",
           "linecolor": "white",
           "ticks": "",
           "title": {
            "standoff": 15
           },
           "zerolinecolor": "white",
           "zerolinewidth": 2
          },
          "yaxis": {
           "automargin": true,
           "gridcolor": "white",
           "linecolor": "white",
           "ticks": "",
           "title": {
            "standoff": 15
           },
           "zerolinecolor": "white",
           "zerolinewidth": 2
          }
         }
        },
        "xaxis": {
         "anchor": "y",
         "domain": [
          0,
          1
         ],
         "title": {
          "text": "inplay_of_pt_perc"
         }
        },
        "yaxis": {
         "anchor": "x",
         "domain": [
          0,
          1
         ],
         "title": {
          "text": "inplay_re24"
         }
        }
       }
      },
      "text/html": [
       "<div>\n",
       "        \n",
       "        \n",
       "            <div id=\"34844edd-b2d6-4327-b2ef-88ce9e55c4e7\" class=\"plotly-graph-div\" style=\"height:525px; width:100%;\"></div>\n",
       "            <script type=\"text/javascript\">\n",
       "                require([\"plotly\"], function(Plotly) {\n",
       "                    window.PLOTLYENV=window.PLOTLYENV || {};\n",
       "                    \n",
       "                if (document.getElementById(\"34844edd-b2d6-4327-b2ef-88ce9e55c4e7\")) {\n",
       "                    Plotly.newPlot(\n",
       "                        '34844edd-b2d6-4327-b2ef-88ce9e55c4e7',\n",
       "                        [{\"hoverlabel\": {\"namelength\": 0}, \"hovertemplate\": \"color=Splitter<br>inplay_of_pt_perc=%{x}<br>inplay_re24=%{y}<br>pt_of_all_perc=%{marker.size}\", \"legendgroup\": \"Splitter\", \"marker\": {\"color\": \"#636efa\", \"size\": [0.008803877614160021], \"sizemode\": \"area\", \"sizeref\": 0.0009463489961299848, \"symbol\": \"circle\"}, \"mode\": \"markers\", \"name\": \"Splitter\", \"showlegend\": true, \"type\": \"scatter\", \"x\": [0.11467324290998766], \"xaxis\": \"x\", \"y\": [0.012744086021505353], \"yaxis\": \"y\"}, {\"hoverlabel\": {\"namelength\": 0}, \"hovertemplate\": \"color=Two-Seam Fastball<br>inplay_of_pt_perc=%{x}<br>inplay_re24=%{y}<br>pt_of_all_perc=%{marker.size}\", \"legendgroup\": \"Two-Seam Fastball\", \"marker\": {\"color\": \"#EF553B\", \"size\": [0.09511661609774366], \"sizemode\": \"area\", \"sizeref\": 0.0009463489961299848, \"symbol\": \"circle\"}, \"mode\": \"markers\", \"name\": \"Two-Seam Fastball\", \"showlegend\": true, \"type\": \"scatter\", \"x\": [0.14009358593928325], \"xaxis\": \"x\", \"y\": [0.04422285132382922], \"yaxis\": \"y\"}, {\"hoverlabel\": {\"namelength\": 0}, \"hovertemplate\": \"color=Four-Seam Fastball<br>inplay_of_pt_perc=%{x}<br>inplay_re24=%{y}<br>pt_of_all_perc=%{marker.size}\", \"legendgroup\": \"Four-Seam Fastball\", \"marker\": {\"color\": \"#00cc96\", \"size\": [0.3785395984519939], \"sizemode\": \"area\", \"sizeref\": 0.0009463489961299848, \"symbol\": \"circle\"}, \"mode\": \"markers\", \"name\": \"Four-Seam Fastball\", \"showlegend\": true, \"type\": \"scatter\", \"x\": [0.10695286847048364], \"xaxis\": \"x\", \"y\": [0.08754989945032672], \"yaxis\": \"y\"}, {\"hoverlabel\": {\"namelength\": 0}, \"hovertemplate\": \"color=Slider<br>inplay_of_pt_perc=%{x}<br>inplay_re24=%{y}<br>pt_of_all_perc=%{marker.size}\", \"legendgroup\": \"Slider\", \"marker\": {\"color\": \"#ab63fa\", \"size\": [0.16269261874650587], \"sizemode\": \"area\", \"sizeref\": 0.0009463489961299848, \"symbol\": \"circle\"}, \"mode\": \"markers\", \"name\": \"Slider\", \"showlegend\": true, \"type\": \"scatter\", \"x\": [0.09551611396543672], \"xaxis\": \"x\", \"y\": [0.06537073000349304], \"yaxis\": \"y\"}, {\"hoverlabel\": {\"namelength\": 0}, \"hovertemplate\": \"color=Cutter<br>inplay_of_pt_perc=%{x}<br>inplay_re24=%{y}<br>pt_of_all_perc=%{marker.size}\", \"legendgroup\": \"Cutter\", \"marker\": {\"color\": \"#FFA15A\", \"size\": [0.058831830739753684], \"sizemode\": \"area\", \"sizeref\": 0.0009463489961299848, \"symbol\": \"circle\"}, \"mode\": \"markers\", \"name\": \"Cutter\", \"showlegend\": true, \"type\": \"scatter\", \"x\": [0.12344312205923055], \"xaxis\": \"x\", \"y\": [0.0680399103139016], \"yaxis\": \"y\"}, {\"hoverlabel\": {\"namelength\": 0}, \"hovertemplate\": \"color=Sinker<br>inplay_of_pt_perc=%{x}<br>inplay_re24=%{y}<br>pt_of_all_perc=%{marker.size}\", \"legendgroup\": \"Sinker\", \"marker\": {\"color\": \"#19d3f3\", \"size\": [0.09093721673713749], \"sizemode\": \"area\", \"sizeref\": 0.0009463489961299848, \"symbol\": \"circle\"}, \"mode\": \"markers\", \"name\": \"Sinker\", \"showlegend\": true, \"type\": \"scatter\", \"x\": [0.1367434642473439], \"xaxis\": \"x\", \"y\": [0.04913819292885266], \"yaxis\": \"y\"}, {\"hoverlabel\": {\"namelength\": 0}, \"hovertemplate\": \"color=Knuckle Curve<br>inplay_of_pt_perc=%{x}<br>inplay_re24=%{y}<br>pt_of_all_perc=%{marker.size}\", \"legendgroup\": \"Knuckle Curve\", \"marker\": {\"color\": \"#FF6692\", \"size\": [0.022536189799008885], \"sizemode\": \"area\", \"sizeref\": 0.0009463489961299848, \"symbol\": \"circle\"}, \"mode\": \"markers\", \"name\": \"Knuckle Curve\", \"showlegend\": true, \"type\": \"scatter\", \"x\": [0.06840077071290944], \"xaxis\": \"x\", \"y\": [0.07477183098591553], \"yaxis\": \"y\"}, {\"hoverlabel\": {\"namelength\": 0}, \"hovertemplate\": \"color=Changeup<br>inplay_of_pt_perc=%{x}<br>inplay_re24=%{y}<br>pt_of_all_perc=%{marker.size}\", \"legendgroup\": \"Changeup\", \"marker\": {\"color\": \"#B6E880\", \"size\": [0.07322090568126924], \"sizemode\": \"area\", \"sizeref\": 0.0009463489961299848, \"symbol\": \"circle\"}, \"mode\": \"markers\", \"name\": \"Changeup\", \"showlegend\": true, \"type\": \"scatter\", \"x\": [0.12661230541141585], \"xaxis\": \"x\", \"y\": [0.033926463700234326], \"yaxis\": \"y\"}, {\"hoverlabel\": {\"namelength\": 0}, \"hovertemplate\": \"color=Curveball<br>inplay_of_pt_perc=%{x}<br>inplay_re24=%{y}<br>pt_of_all_perc=%{marker.size}\", \"legendgroup\": \"Curveball\", \"marker\": {\"color\": \"#FF97FF\", \"size\": [0.10896833969289556], \"sizemode\": \"area\", \"sizeref\": 0.0009463489961299848, \"symbol\": \"circle\"}, \"mode\": \"markers\", \"name\": \"Curveball\", \"showlegend\": true, \"type\": \"scatter\", \"x\": [0.07665869695158398], \"xaxis\": \"x\", \"y\": [0.09972261208577031], \"yaxis\": \"y\"}],\n",
       "                        {\"legend\": {\"itemsizing\": \"constant\", \"title\": {\"text\": \"color\"}, \"tracegroupgap\": 0}, \"margin\": {\"t\": 60}, \"template\": {\"data\": {\"bar\": [{\"error_x\": {\"color\": \"#2a3f5f\"}, \"error_y\": {\"color\": \"#2a3f5f\"}, \"marker\": {\"line\": {\"color\": \"#E5ECF6\", \"width\": 0.5}}, \"type\": \"bar\"}], \"barpolar\": [{\"marker\": {\"line\": {\"color\": \"#E5ECF6\", \"width\": 0.5}}, \"type\": \"barpolar\"}], \"carpet\": [{\"aaxis\": {\"endlinecolor\": \"#2a3f5f\", \"gridcolor\": \"white\", \"linecolor\": \"white\", \"minorgridcolor\": \"white\", \"startlinecolor\": \"#2a3f5f\"}, \"baxis\": {\"endlinecolor\": \"#2a3f5f\", \"gridcolor\": \"white\", \"linecolor\": \"white\", \"minorgridcolor\": \"white\", \"startlinecolor\": \"#2a3f5f\"}, \"type\": \"carpet\"}], \"choropleth\": [{\"colorbar\": {\"outlinewidth\": 0, \"ticks\": \"\"}, \"type\": \"choropleth\"}], \"contour\": [{\"colorbar\": {\"outlinewidth\": 0, \"ticks\": \"\"}, \"colorscale\": [[0.0, \"#0d0887\"], [0.1111111111111111, \"#46039f\"], [0.2222222222222222, \"#7201a8\"], [0.3333333333333333, \"#9c179e\"], [0.4444444444444444, \"#bd3786\"], [0.5555555555555556, \"#d8576b\"], [0.6666666666666666, \"#ed7953\"], [0.7777777777777778, \"#fb9f3a\"], [0.8888888888888888, \"#fdca26\"], [1.0, \"#f0f921\"]], \"type\": \"contour\"}], \"contourcarpet\": [{\"colorbar\": {\"outlinewidth\": 0, \"ticks\": \"\"}, \"type\": \"contourcarpet\"}], \"heatmap\": [{\"colorbar\": {\"outlinewidth\": 0, \"ticks\": \"\"}, \"colorscale\": [[0.0, \"#0d0887\"], [0.1111111111111111, \"#46039f\"], [0.2222222222222222, \"#7201a8\"], [0.3333333333333333, \"#9c179e\"], [0.4444444444444444, \"#bd3786\"], [0.5555555555555556, \"#d8576b\"], [0.6666666666666666, \"#ed7953\"], [0.7777777777777778, \"#fb9f3a\"], [0.8888888888888888, \"#fdca26\"], [1.0, \"#f0f921\"]], \"type\": \"heatmap\"}], \"heatmapgl\": [{\"colorbar\": {\"outlinewidth\": 0, \"ticks\": \"\"}, \"colorscale\": [[0.0, \"#0d0887\"], [0.1111111111111111, \"#46039f\"], [0.2222222222222222, \"#7201a8\"], [0.3333333333333333, \"#9c179e\"], [0.4444444444444444, \"#bd3786\"], [0.5555555555555556, \"#d8576b\"], [0.6666666666666666, \"#ed7953\"], [0.7777777777777778, \"#fb9f3a\"], [0.8888888888888888, \"#fdca26\"], [1.0, \"#f0f921\"]], \"type\": \"heatmapgl\"}], \"histogram\": [{\"marker\": {\"colorbar\": {\"outlinewidth\": 0, \"ticks\": \"\"}}, \"type\": \"histogram\"}], \"histogram2d\": [{\"colorbar\": {\"outlinewidth\": 0, \"ticks\": \"\"}, \"colorscale\": [[0.0, \"#0d0887\"], [0.1111111111111111, \"#46039f\"], [0.2222222222222222, \"#7201a8\"], [0.3333333333333333, \"#9c179e\"], [0.4444444444444444, \"#bd3786\"], [0.5555555555555556, \"#d8576b\"], [0.6666666666666666, \"#ed7953\"], [0.7777777777777778, \"#fb9f3a\"], [0.8888888888888888, \"#fdca26\"], [1.0, \"#f0f921\"]], \"type\": \"histogram2d\"}], \"histogram2dcontour\": [{\"colorbar\": {\"outlinewidth\": 0, \"ticks\": \"\"}, \"colorscale\": [[0.0, \"#0d0887\"], [0.1111111111111111, \"#46039f\"], [0.2222222222222222, \"#7201a8\"], [0.3333333333333333, \"#9c179e\"], [0.4444444444444444, \"#bd3786\"], [0.5555555555555556, \"#d8576b\"], [0.6666666666666666, \"#ed7953\"], [0.7777777777777778, \"#fb9f3a\"], [0.8888888888888888, \"#fdca26\"], [1.0, \"#f0f921\"]], \"type\": \"histogram2dcontour\"}], \"mesh3d\": [{\"colorbar\": {\"outlinewidth\": 0, \"ticks\": \"\"}, \"type\": \"mesh3d\"}], \"parcoords\": [{\"line\": {\"colorbar\": {\"outlinewidth\": 0, \"ticks\": \"\"}}, \"type\": \"parcoords\"}], \"pie\": [{\"automargin\": true, \"type\": \"pie\"}], \"scatter\": [{\"marker\": {\"colorbar\": {\"outlinewidth\": 0, \"ticks\": \"\"}}, \"type\": \"scatter\"}], \"scatter3d\": [{\"line\": {\"colorbar\": {\"outlinewidth\": 0, \"ticks\": \"\"}}, \"marker\": {\"colorbar\": {\"outlinewidth\": 0, \"ticks\": \"\"}}, \"type\": \"scatter3d\"}], \"scattercarpet\": [{\"marker\": {\"colorbar\": {\"outlinewidth\": 0, \"ticks\": \"\"}}, \"type\": \"scattercarpet\"}], \"scattergeo\": [{\"marker\": {\"colorbar\": {\"outlinewidth\": 0, \"ticks\": \"\"}}, \"type\": \"scattergeo\"}], \"scattergl\": [{\"marker\": {\"colorbar\": {\"outlinewidth\": 0, \"ticks\": \"\"}}, \"type\": \"scattergl\"}], \"scattermapbox\": [{\"marker\": {\"colorbar\": {\"outlinewidth\": 0, \"ticks\": \"\"}}, \"type\": \"scattermapbox\"}], \"scatterpolar\": [{\"marker\": {\"colorbar\": {\"outlinewidth\": 0, \"ticks\": \"\"}}, \"type\": \"scatterpolar\"}], \"scatterpolargl\": [{\"marker\": {\"colorbar\": {\"outlinewidth\": 0, \"ticks\": \"\"}}, \"type\": \"scatterpolargl\"}], \"scatterternary\": [{\"marker\": {\"colorbar\": {\"outlinewidth\": 0, \"ticks\": \"\"}}, \"type\": \"scatterternary\"}], \"surface\": [{\"colorbar\": {\"outlinewidth\": 0, \"ticks\": \"\"}, \"colorscale\": [[0.0, \"#0d0887\"], [0.1111111111111111, \"#46039f\"], [0.2222222222222222, \"#7201a8\"], [0.3333333333333333, \"#9c179e\"], [0.4444444444444444, \"#bd3786\"], [0.5555555555555556, \"#d8576b\"], [0.6666666666666666, \"#ed7953\"], [0.7777777777777778, \"#fb9f3a\"], [0.8888888888888888, \"#fdca26\"], [1.0, \"#f0f921\"]], \"type\": \"surface\"}], \"table\": [{\"cells\": {\"fill\": {\"color\": \"#EBF0F8\"}, \"line\": {\"color\": \"white\"}}, \"header\": {\"fill\": {\"color\": \"#C8D4E3\"}, \"line\": {\"color\": \"white\"}}, \"type\": \"table\"}]}, \"layout\": {\"annotationdefaults\": {\"arrowcolor\": \"#2a3f5f\", \"arrowhead\": 0, \"arrowwidth\": 1}, \"coloraxis\": {\"colorbar\": {\"outlinewidth\": 0, \"ticks\": \"\"}}, \"colorscale\": {\"diverging\": [[0, \"#8e0152\"], [0.1, \"#c51b7d\"], [0.2, \"#de77ae\"], [0.3, \"#f1b6da\"], [0.4, \"#fde0ef\"], [0.5, \"#f7f7f7\"], [0.6, \"#e6f5d0\"], [0.7, \"#b8e186\"], [0.8, \"#7fbc41\"], [0.9, \"#4d9221\"], [1, \"#276419\"]], \"sequential\": [[0.0, \"#0d0887\"], [0.1111111111111111, \"#46039f\"], [0.2222222222222222, \"#7201a8\"], [0.3333333333333333, \"#9c179e\"], [0.4444444444444444, \"#bd3786\"], [0.5555555555555556, \"#d8576b\"], [0.6666666666666666, \"#ed7953\"], [0.7777777777777778, \"#fb9f3a\"], [0.8888888888888888, \"#fdca26\"], [1.0, \"#f0f921\"]], \"sequentialminus\": [[0.0, \"#0d0887\"], [0.1111111111111111, \"#46039f\"], [0.2222222222222222, \"#7201a8\"], [0.3333333333333333, \"#9c179e\"], [0.4444444444444444, \"#bd3786\"], [0.5555555555555556, \"#d8576b\"], [0.6666666666666666, \"#ed7953\"], [0.7777777777777778, \"#fb9f3a\"], [0.8888888888888888, \"#fdca26\"], [1.0, \"#f0f921\"]]}, \"colorway\": [\"#636efa\", \"#EF553B\", \"#00cc96\", \"#ab63fa\", \"#FFA15A\", \"#19d3f3\", \"#FF6692\", \"#B6E880\", \"#FF97FF\", \"#FECB52\"], \"font\": {\"color\": \"#2a3f5f\"}, \"geo\": {\"bgcolor\": \"white\", \"lakecolor\": \"white\", \"landcolor\": \"#E5ECF6\", \"showlakes\": true, \"showland\": true, \"subunitcolor\": \"white\"}, \"hoverlabel\": {\"align\": \"left\"}, \"hovermode\": \"closest\", \"mapbox\": {\"style\": \"light\"}, \"paper_bgcolor\": \"white\", \"plot_bgcolor\": \"#E5ECF6\", \"polar\": {\"angularaxis\": {\"gridcolor\": \"white\", \"linecolor\": \"white\", \"ticks\": \"\"}, \"bgcolor\": \"#E5ECF6\", \"radialaxis\": {\"gridcolor\": \"white\", \"linecolor\": \"white\", \"ticks\": \"\"}}, \"scene\": {\"xaxis\": {\"backgroundcolor\": \"#E5ECF6\", \"gridcolor\": \"white\", \"gridwidth\": 2, \"linecolor\": \"white\", \"showbackground\": true, \"ticks\": \"\", \"zerolinecolor\": \"white\"}, \"yaxis\": {\"backgroundcolor\": \"#E5ECF6\", \"gridcolor\": \"white\", \"gridwidth\": 2, \"linecolor\": \"white\", \"showbackground\": true, \"ticks\": \"\", \"zerolinecolor\": \"white\"}, \"zaxis\": {\"backgroundcolor\": \"#E5ECF6\", \"gridcolor\": \"white\", \"gridwidth\": 2, \"linecolor\": \"white\", \"showbackground\": true, \"ticks\": \"\", \"zerolinecolor\": \"white\"}}, \"shapedefaults\": {\"line\": {\"color\": \"#2a3f5f\"}}, \"ternary\": {\"aaxis\": {\"gridcolor\": \"white\", \"linecolor\": \"white\", \"ticks\": \"\"}, \"baxis\": {\"gridcolor\": \"white\", \"linecolor\": \"white\", \"ticks\": \"\"}, \"bgcolor\": \"#E5ECF6\", \"caxis\": {\"gridcolor\": \"white\", \"linecolor\": \"white\", \"ticks\": \"\"}}, \"title\": {\"x\": 0.05}, \"xaxis\": {\"automargin\": true, \"gridcolor\": \"white\", \"linecolor\": \"white\", \"ticks\": \"\", \"title\": {\"standoff\": 15}, \"zerolinecolor\": \"white\", \"zerolinewidth\": 2}, \"yaxis\": {\"automargin\": true, \"gridcolor\": \"white\", \"linecolor\": \"white\", \"ticks\": \"\", \"title\": {\"standoff\": 15}, \"zerolinecolor\": \"white\", \"zerolinewidth\": 2}}}, \"xaxis\": {\"anchor\": \"y\", \"domain\": [0.0, 1.0], \"title\": {\"text\": \"inplay_of_pt_perc\"}}, \"yaxis\": {\"anchor\": \"x\", \"domain\": [0.0, 1.0], \"title\": {\"text\": \"inplay_re24\"}}},\n",
       "                        {\"responsive\": true}\n",
       "                    ).then(function(){\n",
       "                            \n",
       "var gd = document.getElementById('34844edd-b2d6-4327-b2ef-88ce9e55c4e7');\n",
       "var x = new MutationObserver(function (mutations, observer) {{\n",
       "        var display = window.getComputedStyle(gd).display;\n",
       "        if (!display || display === 'none') {{\n",
       "            console.log([gd, 'removed!']);\n",
       "            Plotly.purge(gd);\n",
       "            observer.disconnect();\n",
       "        }}\n",
       "}});\n",
       "\n",
       "// Listen for the removal of the full notebook cells\n",
       "var notebookContainer = gd.closest('#notebook-container');\n",
       "if (notebookContainer) {{\n",
       "    x.observe(notebookContainer, {childList: true});\n",
       "}}\n",
       "\n",
       "// Listen for the clearing of the current output cell\n",
       "var outputEl = gd.closest('.output');\n",
       "if (outputEl) {{\n",
       "    x.observe(outputEl, {childList: true});\n",
       "}}\n",
       "\n",
       "                        })\n",
       "                };\n",
       "                });\n",
       "            </script>\n",
       "        </div>"
      ]
     },
     "metadata": {},
     "output_type": "display_data"
    }
   ],
   "source": [
    "# Plot inplay percent vs re24\n",
    "filt_merged_all_df = merged_all_df[~merged_all_df.index.isin(['Eephus','Knuckle Ball'])]\n",
    "fig = px.scatter(filt_merged_all_df, x='inplay_of_pt_perc', y='inplay_re24', color=filt_merged_all_df.index, size='pt_of_all_perc')#, hover_data=[filt_merged_all_df.index])\n",
    "fig.show()"
   ]
  },
  {
   "cell_type": "markdown",
   "metadata": {},
   "source": [
    "## Last Pitch Correlation to Strikeouts"
   ]
  },
  {
   "cell_type": "code",
   "execution_count": 46,
   "metadata": {},
   "outputs": [
    {
     "data": {
      "text/html": [
       "<div>\n",
       "<style scoped>\n",
       "    .dataframe tbody tr th:only-of-type {\n",
       "        vertical-align: middle;\n",
       "    }\n",
       "\n",
       "    .dataframe tbody tr th {\n",
       "        vertical-align: top;\n",
       "    }\n",
       "\n",
       "    .dataframe thead th {\n",
       "        text-align: right;\n",
       "    }\n",
       "</style>\n",
       "<table border=\"1\" class=\"dataframe\">\n",
       "  <thead>\n",
       "    <tr style=\"text-align: right;\">\n",
       "      <th></th>\n",
       "      <th>last_pitch_details_type_description</th>\n",
       "      <th>last_pitch_details_description</th>\n",
       "      <th>re24</th>\n",
       "      <th>result_eventType</th>\n",
       "    </tr>\n",
       "  </thead>\n",
       "  <tbody>\n",
       "    <tr>\n",
       "      <th>5</th>\n",
       "      <td>Curveball</td>\n",
       "      <td>In play, run(s)</td>\n",
       "      <td>0.6113</td>\n",
       "      <td>single</td>\n",
       "    </tr>\n",
       "    <tr>\n",
       "      <th>7</th>\n",
       "      <td>Two-Seam Fastball</td>\n",
       "      <td>In play, out(s)</td>\n",
       "      <td>-0.2422</td>\n",
       "      <td>field_out</td>\n",
       "    </tr>\n",
       "    <tr>\n",
       "      <th>27</th>\n",
       "      <td>Knuckle Curve</td>\n",
       "      <td>In play, run(s)</td>\n",
       "      <td>0.1619</td>\n",
       "      <td>sac_fly</td>\n",
       "    </tr>\n",
       "    <tr>\n",
       "      <th>37</th>\n",
       "      <td>Four-Seam Fastball</td>\n",
       "      <td>In play, out(s)</td>\n",
       "      <td>-0.2456</td>\n",
       "      <td>field_out</td>\n",
       "    </tr>\n",
       "    <tr>\n",
       "      <th>48</th>\n",
       "      <td>Four-Seam Fastball</td>\n",
       "      <td>In play, no out</td>\n",
       "      <td>0.4151</td>\n",
       "      <td>double</td>\n",
       "    </tr>\n",
       "    <tr>\n",
       "      <th>...</th>\n",
       "      <td>...</td>\n",
       "      <td>...</td>\n",
       "      <td>...</td>\n",
       "      <td>...</td>\n",
       "    </tr>\n",
       "    <tr>\n",
       "      <th>128530</th>\n",
       "      <td>Knuckle Curve</td>\n",
       "      <td>Ball In Dirt</td>\n",
       "      <td>0.2658</td>\n",
       "      <td>walk</td>\n",
       "    </tr>\n",
       "    <tr>\n",
       "      <th>137269</th>\n",
       "      <td>Sinker</td>\n",
       "      <td>Called Strike</td>\n",
       "      <td>-0.5126</td>\n",
       "      <td>strikeout</td>\n",
       "    </tr>\n",
       "    <tr>\n",
       "      <th>158653</th>\n",
       "      <td>Four-Seam Fastball</td>\n",
       "      <td>Ball</td>\n",
       "      <td>0.2760</td>\n",
       "      <td>walk</td>\n",
       "    </tr>\n",
       "    <tr>\n",
       "      <th>180348</th>\n",
       "      <td>Two-Seam Fastball</td>\n",
       "      <td>In play, out(s)</td>\n",
       "      <td>-0.5641</td>\n",
       "      <td>grounded_into_double_play</td>\n",
       "    </tr>\n",
       "    <tr>\n",
       "      <th>78053</th>\n",
       "      <td>Four-Seam Fastball</td>\n",
       "      <td>Swinging Strike</td>\n",
       "      <td>-0.1836</td>\n",
       "      <td>strikeout</td>\n",
       "    </tr>\n",
       "  </tbody>\n",
       "</table>\n",
       "<p>184465 rows × 4 columns</p>\n",
       "</div>"
      ],
      "text/plain": [
       "       last_pitch_details_type_description last_pitch_details_description  \\\n",
       "5                                Curveball                In play, run(s)   \n",
       "7                        Two-Seam Fastball                In play, out(s)   \n",
       "27                           Knuckle Curve                In play, run(s)   \n",
       "37                      Four-Seam Fastball                In play, out(s)   \n",
       "48                      Four-Seam Fastball                In play, no out   \n",
       "...                                    ...                            ...   \n",
       "128530                       Knuckle Curve                   Ball In Dirt   \n",
       "137269                              Sinker                  Called Strike   \n",
       "158653                  Four-Seam Fastball                           Ball   \n",
       "180348                   Two-Seam Fastball                In play, out(s)   \n",
       "78053                   Four-Seam Fastball                Swinging Strike   \n",
       "\n",
       "          re24           result_eventType  \n",
       "5       0.6113                     single  \n",
       "7      -0.2422                  field_out  \n",
       "27      0.1619                    sac_fly  \n",
       "37     -0.2456                  field_out  \n",
       "48      0.4151                     double  \n",
       "...        ...                        ...  \n",
       "128530  0.2658                       walk  \n",
       "137269 -0.5126                  strikeout  \n",
       "158653  0.2760                       walk  \n",
       "180348 -0.5641  grounded_into_double_play  \n",
       "78053  -0.1836                  strikeout  \n",
       "\n",
       "[184465 rows x 4 columns]"
      ]
     },
     "execution_count": 46,
     "metadata": {},
     "output_type": "execute_result"
    }
   ],
   "source": [
    "# last_pitch_df = pitches_df[(~pitches_df['pitchSequence_0'].isna()) & pitches_df['pitchSequence_1'].isna()]\n",
    "# first_pitch_only_df = first_pitch_only_df[['pitches_0_details_type_description','re24']].groupby(['pitches_0_details_type_description']).mean().sort_values(['re24'],ascending=True)\n",
    "\n",
    "num_pitches = len(\n",
    "    pitches_df.loc[:, pitches_df.columns.str.startswith(\"pitchSequence_\")].columns\n",
    ")\n",
    "i = 0\n",
    "pitch_number_dfs = []\n",
    "for i in range(num_pitches):\n",
    "    if i == num_pitches-1:\n",
    "        i_df = pitches_df[(~pitches_df[\"pitches_\" + str(i) + \"_details_type_description\"].isna())]\n",
    "        i_df = i_df[[\"pitches_\" + str(i) + \"_details_type_description\",\"pitches_\" + str(i) + \"_details_description\",\"re24\",\"result_eventType\"]]\n",
    "        i_df = i_df.rename(columns={\"pitches_\" + str(i) + \"_details_type_description\": \"last_pitch_details_type_description\", \"pitches_\" + str(i) + \"_details_description\": \"last_pitch_details_description\"})\n",
    "        i_df = i_df[[\"last_pitch_details_type_description\",\"last_pitch_details_description\",\"re24\",\"result_eventType\"]]\n",
    "    else:\n",
    "        i_df = pitches_df[(~pitches_df[\"pitches_\" + str(i) + \"_details_type_description\"].isna()) & pitches_df[\"pitches_\" + str(i+1) + \"_details_type_description\"].isna()]\n",
    "        i_df = i_df[[\"pitches_\" + str(i) + \"_details_type_description\",\"pitches_\" + str(i) + \"_details_description\",\"re24\",\"result_eventType\"]]\n",
    "        i_df = i_df.rename(columns={\"pitches_\" + str(i) + \"_details_type_description\": \"last_pitch_details_type_description\", \"pitches_\" + str(i) + \"_details_description\": \"last_pitch_details_description\"})\n",
    "        i_df = i_df[[\"last_pitch_details_type_description\",\"last_pitch_details_description\",\"re24\",\"result_eventType\"]]\n",
    "    pitch_number_dfs.append(i_df)\n",
    "\n",
    "last_pitch_df = pd.concat(pitch_number_dfs)\n",
    "last_pitch_df"
   ]
  },
  {
   "cell_type": "code",
   "execution_count": 56,
   "metadata": {},
   "outputs": [
    {
     "data": {
      "text/html": [
       "<div>\n",
       "<style scoped>\n",
       "    .dataframe tbody tr th:only-of-type {\n",
       "        vertical-align: middle;\n",
       "    }\n",
       "\n",
       "    .dataframe tbody tr th {\n",
       "        vertical-align: top;\n",
       "    }\n",
       "\n",
       "    .dataframe thead th {\n",
       "        text-align: right;\n",
       "    }\n",
       "</style>\n",
       "<table border=\"1\" class=\"dataframe\">\n",
       "  <thead>\n",
       "    <tr style=\"text-align: right;\">\n",
       "      <th></th>\n",
       "      <th>last_pitch_re24</th>\n",
       "      <th>last_pitch_count</th>\n",
       "      <th>strikeout_count</th>\n",
       "      <th>last_pitch_perc</th>\n",
       "      <th>strikeout_perc</th>\n",
       "    </tr>\n",
       "    <tr>\n",
       "      <th>last_pitch_details_type_description</th>\n",
       "      <th></th>\n",
       "      <th></th>\n",
       "      <th></th>\n",
       "      <th></th>\n",
       "      <th></th>\n",
       "    </tr>\n",
       "  </thead>\n",
       "  <tbody>\n",
       "    <tr>\n",
       "      <th>Four-Seam Fastball</th>\n",
       "      <td>0.026004</td>\n",
       "      <td>63239</td>\n",
       "      <td>13643</td>\n",
       "      <td>0.342824</td>\n",
       "      <td>0.215737</td>\n",
       "    </tr>\n",
       "    <tr>\n",
       "      <th>Slider</th>\n",
       "      <td>-0.041610</td>\n",
       "      <td>33437</td>\n",
       "      <td>10490</td>\n",
       "      <td>0.181265</td>\n",
       "      <td>0.313724</td>\n",
       "    </tr>\n",
       "    <tr>\n",
       "      <th>Changeup</th>\n",
       "      <td>-0.029747</td>\n",
       "      <td>22230</td>\n",
       "      <td>4730</td>\n",
       "      <td>0.120511</td>\n",
       "      <td>0.212776</td>\n",
       "    </tr>\n",
       "    <tr>\n",
       "      <th>Two-Seam Fastball</th>\n",
       "      <td>0.022382</td>\n",
       "      <td>16751</td>\n",
       "      <td>2275</td>\n",
       "      <td>0.090809</td>\n",
       "      <td>0.135813</td>\n",
       "    </tr>\n",
       "    <tr>\n",
       "      <th>Sinker</th>\n",
       "      <td>0.034718</td>\n",
       "      <td>15152</td>\n",
       "      <td>1938</td>\n",
       "      <td>0.082140</td>\n",
       "      <td>0.127904</td>\n",
       "    </tr>\n",
       "    <tr>\n",
       "      <th>Curveball</th>\n",
       "      <td>-0.033725</td>\n",
       "      <td>14864</td>\n",
       "      <td>4527</td>\n",
       "      <td>0.080579</td>\n",
       "      <td>0.304561</td>\n",
       "    </tr>\n",
       "    <tr>\n",
       "      <th>Cutter</th>\n",
       "      <td>-0.003340</td>\n",
       "      <td>12069</td>\n",
       "      <td>2484</td>\n",
       "      <td>0.065427</td>\n",
       "      <td>0.205817</td>\n",
       "    </tr>\n",
       "    <tr>\n",
       "      <th>Knuckle Curve</th>\n",
       "      <td>-0.056072</td>\n",
       "      <td>3724</td>\n",
       "      <td>1265</td>\n",
       "      <td>0.020188</td>\n",
       "      <td>0.339689</td>\n",
       "    </tr>\n",
       "    <tr>\n",
       "      <th>Splitter</th>\n",
       "      <td>-0.062926</td>\n",
       "      <td>2916</td>\n",
       "      <td>898</td>\n",
       "      <td>0.015808</td>\n",
       "      <td>0.307956</td>\n",
       "    </tr>\n",
       "    <tr>\n",
       "      <th>Knuckle Ball</th>\n",
       "      <td>0.105918</td>\n",
       "      <td>50</td>\n",
       "      <td>7</td>\n",
       "      <td>0.000271</td>\n",
       "      <td>0.140000</td>\n",
       "    </tr>\n",
       "    <tr>\n",
       "      <th>Eephus</th>\n",
       "      <td>-0.131223</td>\n",
       "      <td>22</td>\n",
       "      <td>6</td>\n",
       "      <td>0.000119</td>\n",
       "      <td>0.272727</td>\n",
       "    </tr>\n",
       "    <tr>\n",
       "      <th>Forkball</th>\n",
       "      <td>0.183036</td>\n",
       "      <td>11</td>\n",
       "      <td>3</td>\n",
       "      <td>0.000060</td>\n",
       "      <td>0.272727</td>\n",
       "    </tr>\n",
       "  </tbody>\n",
       "</table>\n",
       "</div>"
      ],
      "text/plain": [
       "                                     last_pitch_re24  last_pitch_count  \\\n",
       "last_pitch_details_type_description                                      \n",
       "Four-Seam Fastball                          0.026004             63239   \n",
       "Slider                                     -0.041610             33437   \n",
       "Changeup                                   -0.029747             22230   \n",
       "Two-Seam Fastball                           0.022382             16751   \n",
       "Sinker                                      0.034718             15152   \n",
       "Curveball                                  -0.033725             14864   \n",
       "Cutter                                     -0.003340             12069   \n",
       "Knuckle Curve                              -0.056072              3724   \n",
       "Splitter                                   -0.062926              2916   \n",
       "Knuckle Ball                                0.105918                50   \n",
       "Eephus                                     -0.131223                22   \n",
       "Forkball                                    0.183036                11   \n",
       "\n",
       "                                     strikeout_count  last_pitch_perc  \\\n",
       "last_pitch_details_type_description                                     \n",
       "Four-Seam Fastball                             13643         0.342824   \n",
       "Slider                                         10490         0.181265   \n",
       "Changeup                                        4730         0.120511   \n",
       "Two-Seam Fastball                               2275         0.090809   \n",
       "Sinker                                          1938         0.082140   \n",
       "Curveball                                       4527         0.080579   \n",
       "Cutter                                          2484         0.065427   \n",
       "Knuckle Curve                                   1265         0.020188   \n",
       "Splitter                                         898         0.015808   \n",
       "Knuckle Ball                                       7         0.000271   \n",
       "Eephus                                             6         0.000119   \n",
       "Forkball                                           3         0.000060   \n",
       "\n",
       "                                     strikeout_perc  \n",
       "last_pitch_details_type_description                  \n",
       "Four-Seam Fastball                         0.215737  \n",
       "Slider                                     0.313724  \n",
       "Changeup                                   0.212776  \n",
       "Two-Seam Fastball                          0.135813  \n",
       "Sinker                                     0.127904  \n",
       "Curveball                                  0.304561  \n",
       "Cutter                                     0.205817  \n",
       "Knuckle Curve                              0.339689  \n",
       "Splitter                                   0.307956  \n",
       "Knuckle Ball                               0.140000  \n",
       "Eephus                                     0.272727  \n",
       "Forkball                                   0.272727  "
      ]
     },
     "execution_count": 56,
     "metadata": {},
     "output_type": "execute_result"
    }
   ],
   "source": [
    "# Calculate avg RE24 by last pitch type\n",
    "mean_last_pitch_df = last_pitch_df[['last_pitch_details_type_description','re24']].groupby(['last_pitch_details_type_description']).mean()\n",
    "mean_last_pitch_df = mean_last_pitch_df.rename(columns={\"re24\": \"last_pitch_re24\"})\n",
    "\n",
    "# Count of last pitches by type\n",
    "count_last_pitch_df = last_pitch_df[['last_pitch_details_type_description','last_pitch_details_description']].groupby(['last_pitch_details_type_description']).count()\n",
    "count_last_pitch_df = count_last_pitch_df.rename(columns={\"last_pitch_details_description\": \"last_pitch_count\"})\n",
    "\n",
    "# Count of strikeouts by last pitch type\n",
    "strikeout_last_pitch_df = last_pitch_df[last_pitch_df['result_eventType'] == \"strikeout\"].groupby(['last_pitch_details_type_description']).count()\n",
    "strikeout_last_pitch_df = strikeout_last_pitch_df.rename(columns={\"last_pitch_details_description\": \"strikeout_count\"})[['strikeout_count']]\n",
    "\n",
    "# Merge\n",
    "merged_last_pitch_df = mean_last_pitch_df.merge(count_last_pitch_df, left_index=True, right_index=True)\n",
    "merged_last_pitch_df = merged_last_pitch_df.merge(strikeout_last_pitch_df, left_index=True, right_index=True)\n",
    "\n",
    "# Calculate percentages\n",
    "all_count = merged_last_pitch_df['last_pitch_count'].sum()\n",
    "merged_last_pitch_df[\"last_pitch_perc\"] = merged_last_pitch_df[\"last_pitch_count\"] / all_count\n",
    "merged_last_pitch_df[\"strikeout_perc\"] = merged_last_pitch_df[\"strikeout_count\"] / merged_last_pitch_df[\"last_pitch_count\"]\n",
    "\n",
    "merged_last_pitch_df = merged_last_pitch_df.sort_values(['last_pitch_count'], ascending=False)\n",
    "merged_last_pitch_df"
   ]
  },
  {
   "cell_type": "code",
   "execution_count": 58,
   "metadata": {},
   "outputs": [
    {
     "data": {
      "application/vnd.plotly.v1+json": {
       "config": {
        "plotlyServerURL": "https://plot.ly"
       },
       "data": [
        {
         "hoverlabel": {
          "namelength": 0
         },
         "hovertemplate": "color=Four-Seam Fastball<br>strikeout_perc=%{x}<br>last_pitch_re24=%{y}<br>last_pitch_perc=%{marker.size}",
         "legendgroup": "Four-Seam Fastball",
         "marker": {
          "color": "#636efa",
          "size": [
           0.34282384192123166
          ],
          "sizemode": "area",
          "sizeref": 0.0008570596048030791,
          "symbol": "circle"
         },
         "mode": "markers",
         "name": "Four-Seam Fastball",
         "showlegend": true,
         "type": "scatter",
         "x": [
          0.21573712424295136
         ],
         "xaxis": "x",
         "y": [
          0.026004173057758224
         ],
         "yaxis": "y"
        },
        {
         "hoverlabel": {
          "namelength": 0
         },
         "hovertemplate": "color=Slider<br>strikeout_perc=%{x}<br>last_pitch_re24=%{y}<br>last_pitch_perc=%{marker.size}",
         "legendgroup": "Slider",
         "marker": {
          "color": "#EF553B",
          "size": [
           0.1812647385682921
          ],
          "sizemode": "area",
          "sizeref": 0.0008570596048030791,
          "symbol": "circle"
         },
         "mode": "markers",
         "name": "Slider",
         "showlegend": true,
         "type": "scatter",
         "x": [
          0.3137243173729701
         ],
         "xaxis": "x",
         "y": [
          -0.0416101384693624
         ],
         "yaxis": "y"
        },
        {
         "hoverlabel": {
          "namelength": 0
         },
         "hovertemplate": "color=Changeup<br>strikeout_perc=%{x}<br>last_pitch_re24=%{y}<br>last_pitch_perc=%{marker.size}",
         "legendgroup": "Changeup",
         "marker": {
          "color": "#00cc96",
          "size": [
           0.12051066597999621
          ],
          "sizemode": "area",
          "sizeref": 0.0008570596048030791,
          "symbol": "circle"
         },
         "mode": "markers",
         "name": "Changeup",
         "showlegend": true,
         "type": "scatter",
         "x": [
          0.21277552856500226
         ],
         "xaxis": "x",
         "y": [
          -0.029746693657218732
         ],
         "yaxis": "y"
        },
        {
         "hoverlabel": {
          "namelength": 0
         },
         "hovertemplate": "color=Two-Seam Fastball<br>strikeout_perc=%{x}<br>last_pitch_re24=%{y}<br>last_pitch_perc=%{marker.size}",
         "legendgroup": "Two-Seam Fastball",
         "marker": {
          "color": "#ab63fa",
          "size": [
           0.09080855446832732
          ],
          "sizemode": "area",
          "sizeref": 0.0008570596048030791,
          "symbol": "circle"
         },
         "mode": "markers",
         "name": "Two-Seam Fastball",
         "showlegend": true,
         "type": "scatter",
         "x": [
          0.13581278729628082
         ],
         "xaxis": "x",
         "y": [
          0.02238191152766755
         ],
         "yaxis": "y"
        },
        {
         "hoverlabel": {
          "namelength": 0
         },
         "hovertemplate": "color=Sinker<br>strikeout_perc=%{x}<br>last_pitch_re24=%{y}<br>last_pitch_perc=%{marker.size}",
         "legendgroup": "Sinker",
         "marker": {
          "color": "#FFA15A",
          "size": [
           0.0821402434066083
          ],
          "sizemode": "area",
          "sizeref": 0.0008570596048030791,
          "symbol": "circle"
         },
         "mode": "markers",
         "name": "Sinker",
         "showlegend": true,
         "type": "scatter",
         "x": [
          0.1279039070749736
         ],
         "xaxis": "x",
         "y": [
          0.03471831441393413
         ],
         "yaxis": "y"
        },
        {
         "hoverlabel": {
          "namelength": 0
         },
         "hovertemplate": "color=Curveball<br>strikeout_perc=%{x}<br>last_pitch_re24=%{y}<br>last_pitch_perc=%{marker.size}",
         "legendgroup": "Curveball",
         "marker": {
          "color": "#19d3f3",
          "size": [
           0.08057897162063264
          ],
          "sizemode": "area",
          "sizeref": 0.0008570596048030791,
          "symbol": "circle"
         },
         "mode": "markers",
         "name": "Curveball",
         "showlegend": true,
         "type": "scatter",
         "x": [
          0.30456135629709363
         ],
         "xaxis": "x",
         "y": [
          -0.03372499327233888
         ],
         "yaxis": "y"
        },
        {
         "hoverlabel": {
          "namelength": 0
         },
         "hovertemplate": "color=Cutter<br>strikeout_perc=%{x}<br>last_pitch_re24=%{y}<br>last_pitch_perc=%{marker.size}",
         "legendgroup": "Cutter",
         "marker": {
          "color": "#FF6692",
          "size": [
           0.06542704578104247
          ],
          "sizemode": "area",
          "sizeref": 0.0008570596048030791,
          "symbol": "circle"
         },
         "mode": "markers",
         "name": "Cutter",
         "showlegend": true,
         "type": "scatter",
         "x": [
          0.2058165548098434
         ],
         "xaxis": "x",
         "y": [
          -0.0033403844560441157
         ],
         "yaxis": "y"
        },
        {
         "hoverlabel": {
          "namelength": 0
         },
         "hovertemplate": "color=Knuckle Curve<br>strikeout_perc=%{x}<br>last_pitch_re24=%{y}<br>last_pitch_perc=%{marker.size}",
         "legendgroup": "Knuckle Curve",
         "marker": {
          "color": "#B6E880",
          "size": [
           0.020188111565879706
          ],
          "sizemode": "area",
          "sizeref": 0.0008570596048030791,
          "symbol": "circle"
         },
         "mode": "markers",
         "name": "Knuckle Curve",
         "showlegend": true,
         "type": "scatter",
         "x": [
          0.3396885069817401
         ],
         "xaxis": "x",
         "y": [
          -0.05607180451127784
         ],
         "yaxis": "y"
        },
        {
         "hoverlabel": {
          "namelength": 0
         },
         "hovertemplate": "color=Splitter<br>strikeout_perc=%{x}<br>last_pitch_re24=%{y}<br>last_pitch_perc=%{marker.size}",
         "legendgroup": "Splitter",
         "marker": {
          "color": "#FF97FF",
          "size": [
           0.01580787683300355
          ],
          "sizemode": "area",
          "sizeref": 0.0008570596048030791,
          "symbol": "circle"
         },
         "mode": "markers",
         "name": "Splitter",
         "showlegend": true,
         "type": "scatter",
         "x": [
          0.30795610425240055
         ],
         "xaxis": "x",
         "y": [
          -0.06292616598079516
         ],
         "yaxis": "y"
        }
       ],
       "layout": {
        "legend": {
         "itemsizing": "constant",
         "title": {
          "text": "color"
         },
         "tracegroupgap": 0
        },
        "margin": {
         "t": 60
        },
        "template": {
         "data": {
          "bar": [
           {
            "error_x": {
             "color": "#2a3f5f"
            },
            "error_y": {
             "color": "#2a3f5f"
            },
            "marker": {
             "line": {
              "color": "#E5ECF6",
              "width": 0.5
             }
            },
            "type": "bar"
           }
          ],
          "barpolar": [
           {
            "marker": {
             "line": {
              "color": "#E5ECF6",
              "width": 0.5
             }
            },
            "type": "barpolar"
           }
          ],
          "carpet": [
           {
            "aaxis": {
             "endlinecolor": "#2a3f5f",
             "gridcolor": "white",
             "linecolor": "white",
             "minorgridcolor": "white",
             "startlinecolor": "#2a3f5f"
            },
            "baxis": {
             "endlinecolor": "#2a3f5f",
             "gridcolor": "white",
             "linecolor": "white",
             "minorgridcolor": "white",
             "startlinecolor": "#2a3f5f"
            },
            "type": "carpet"
           }
          ],
          "choropleth": [
           {
            "colorbar": {
             "outlinewidth": 0,
             "ticks": ""
            },
            "type": "choropleth"
           }
          ],
          "contour": [
           {
            "colorbar": {
             "outlinewidth": 0,
             "ticks": ""
            },
            "colorscale": [
             [
              0,
              "#0d0887"
             ],
             [
              0.1111111111111111,
              "#46039f"
             ],
             [
              0.2222222222222222,
              "#7201a8"
             ],
             [
              0.3333333333333333,
              "#9c179e"
             ],
             [
              0.4444444444444444,
              "#bd3786"
             ],
             [
              0.5555555555555556,
              "#d8576b"
             ],
             [
              0.6666666666666666,
              "#ed7953"
             ],
             [
              0.7777777777777778,
              "#fb9f3a"
             ],
             [
              0.8888888888888888,
              "#fdca26"
             ],
             [
              1,
              "#f0f921"
             ]
            ],
            "type": "contour"
           }
          ],
          "contourcarpet": [
           {
            "colorbar": {
             "outlinewidth": 0,
             "ticks": ""
            },
            "type": "contourcarpet"
           }
          ],
          "heatmap": [
           {
            "colorbar": {
             "outlinewidth": 0,
             "ticks": ""
            },
            "colorscale": [
             [
              0,
              "#0d0887"
             ],
             [
              0.1111111111111111,
              "#46039f"
             ],
             [
              0.2222222222222222,
              "#7201a8"
             ],
             [
              0.3333333333333333,
              "#9c179e"
             ],
             [
              0.4444444444444444,
              "#bd3786"
             ],
             [
              0.5555555555555556,
              "#d8576b"
             ],
             [
              0.6666666666666666,
              "#ed7953"
             ],
             [
              0.7777777777777778,
              "#fb9f3a"
             ],
             [
              0.8888888888888888,
              "#fdca26"
             ],
             [
              1,
              "#f0f921"
             ]
            ],
            "type": "heatmap"
           }
          ],
          "heatmapgl": [
           {
            "colorbar": {
             "outlinewidth": 0,
             "ticks": ""
            },
            "colorscale": [
             [
              0,
              "#0d0887"
             ],
             [
              0.1111111111111111,
              "#46039f"
             ],
             [
              0.2222222222222222,
              "#7201a8"
             ],
             [
              0.3333333333333333,
              "#9c179e"
             ],
             [
              0.4444444444444444,
              "#bd3786"
             ],
             [
              0.5555555555555556,
              "#d8576b"
             ],
             [
              0.6666666666666666,
              "#ed7953"
             ],
             [
              0.7777777777777778,
              "#fb9f3a"
             ],
             [
              0.8888888888888888,
              "#fdca26"
             ],
             [
              1,
              "#f0f921"
             ]
            ],
            "type": "heatmapgl"
           }
          ],
          "histogram": [
           {
            "marker": {
             "colorbar": {
              "outlinewidth": 0,
              "ticks": ""
             }
            },
            "type": "histogram"
           }
          ],
          "histogram2d": [
           {
            "colorbar": {
             "outlinewidth": 0,
             "ticks": ""
            },
            "colorscale": [
             [
              0,
              "#0d0887"
             ],
             [
              0.1111111111111111,
              "#46039f"
             ],
             [
              0.2222222222222222,
              "#7201a8"
             ],
             [
              0.3333333333333333,
              "#9c179e"
             ],
             [
              0.4444444444444444,
              "#bd3786"
             ],
             [
              0.5555555555555556,
              "#d8576b"
             ],
             [
              0.6666666666666666,
              "#ed7953"
             ],
             [
              0.7777777777777778,
              "#fb9f3a"
             ],
             [
              0.8888888888888888,
              "#fdca26"
             ],
             [
              1,
              "#f0f921"
             ]
            ],
            "type": "histogram2d"
           }
          ],
          "histogram2dcontour": [
           {
            "colorbar": {
             "outlinewidth": 0,
             "ticks": ""
            },
            "colorscale": [
             [
              0,
              "#0d0887"
             ],
             [
              0.1111111111111111,
              "#46039f"
             ],
             [
              0.2222222222222222,
              "#7201a8"
             ],
             [
              0.3333333333333333,
              "#9c179e"
             ],
             [
              0.4444444444444444,
              "#bd3786"
             ],
             [
              0.5555555555555556,
              "#d8576b"
             ],
             [
              0.6666666666666666,
              "#ed7953"
             ],
             [
              0.7777777777777778,
              "#fb9f3a"
             ],
             [
              0.8888888888888888,
              "#fdca26"
             ],
             [
              1,
              "#f0f921"
             ]
            ],
            "type": "histogram2dcontour"
           }
          ],
          "mesh3d": [
           {
            "colorbar": {
             "outlinewidth": 0,
             "ticks": ""
            },
            "type": "mesh3d"
           }
          ],
          "parcoords": [
           {
            "line": {
             "colorbar": {
              "outlinewidth": 0,
              "ticks": ""
             }
            },
            "type": "parcoords"
           }
          ],
          "pie": [
           {
            "automargin": true,
            "type": "pie"
           }
          ],
          "scatter": [
           {
            "marker": {
             "colorbar": {
              "outlinewidth": 0,
              "ticks": ""
             }
            },
            "type": "scatter"
           }
          ],
          "scatter3d": [
           {
            "line": {
             "colorbar": {
              "outlinewidth": 0,
              "ticks": ""
             }
            },
            "marker": {
             "colorbar": {
              "outlinewidth": 0,
              "ticks": ""
             }
            },
            "type": "scatter3d"
           }
          ],
          "scattercarpet": [
           {
            "marker": {
             "colorbar": {
              "outlinewidth": 0,
              "ticks": ""
             }
            },
            "type": "scattercarpet"
           }
          ],
          "scattergeo": [
           {
            "marker": {
             "colorbar": {
              "outlinewidth": 0,
              "ticks": ""
             }
            },
            "type": "scattergeo"
           }
          ],
          "scattergl": [
           {
            "marker": {
             "colorbar": {
              "outlinewidth": 0,
              "ticks": ""
             }
            },
            "type": "scattergl"
           }
          ],
          "scattermapbox": [
           {
            "marker": {
             "colorbar": {
              "outlinewidth": 0,
              "ticks": ""
             }
            },
            "type": "scattermapbox"
           }
          ],
          "scatterpolar": [
           {
            "marker": {
             "colorbar": {
              "outlinewidth": 0,
              "ticks": ""
             }
            },
            "type": "scatterpolar"
           }
          ],
          "scatterpolargl": [
           {
            "marker": {
             "colorbar": {
              "outlinewidth": 0,
              "ticks": ""
             }
            },
            "type": "scatterpolargl"
           }
          ],
          "scatterternary": [
           {
            "marker": {
             "colorbar": {
              "outlinewidth": 0,
              "ticks": ""
             }
            },
            "type": "scatterternary"
           }
          ],
          "surface": [
           {
            "colorbar": {
             "outlinewidth": 0,
             "ticks": ""
            },
            "colorscale": [
             [
              0,
              "#0d0887"
             ],
             [
              0.1111111111111111,
              "#46039f"
             ],
             [
              0.2222222222222222,
              "#7201a8"
             ],
             [
              0.3333333333333333,
              "#9c179e"
             ],
             [
              0.4444444444444444,
              "#bd3786"
             ],
             [
              0.5555555555555556,
              "#d8576b"
             ],
             [
              0.6666666666666666,
              "#ed7953"
             ],
             [
              0.7777777777777778,
              "#fb9f3a"
             ],
             [
              0.8888888888888888,
              "#fdca26"
             ],
             [
              1,
              "#f0f921"
             ]
            ],
            "type": "surface"
           }
          ],
          "table": [
           {
            "cells": {
             "fill": {
              "color": "#EBF0F8"
             },
             "line": {
              "color": "white"
             }
            },
            "header": {
             "fill": {
              "color": "#C8D4E3"
             },
             "line": {
              "color": "white"
             }
            },
            "type": "table"
           }
          ]
         },
         "layout": {
          "annotationdefaults": {
           "arrowcolor": "#2a3f5f",
           "arrowhead": 0,
           "arrowwidth": 1
          },
          "coloraxis": {
           "colorbar": {
            "outlinewidth": 0,
            "ticks": ""
           }
          },
          "colorscale": {
           "diverging": [
            [
             0,
             "#8e0152"
            ],
            [
             0.1,
             "#c51b7d"
            ],
            [
             0.2,
             "#de77ae"
            ],
            [
             0.3,
             "#f1b6da"
            ],
            [
             0.4,
             "#fde0ef"
            ],
            [
             0.5,
             "#f7f7f7"
            ],
            [
             0.6,
             "#e6f5d0"
            ],
            [
             0.7,
             "#b8e186"
            ],
            [
             0.8,
             "#7fbc41"
            ],
            [
             0.9,
             "#4d9221"
            ],
            [
             1,
             "#276419"
            ]
           ],
           "sequential": [
            [
             0,
             "#0d0887"
            ],
            [
             0.1111111111111111,
             "#46039f"
            ],
            [
             0.2222222222222222,
             "#7201a8"
            ],
            [
             0.3333333333333333,
             "#9c179e"
            ],
            [
             0.4444444444444444,
             "#bd3786"
            ],
            [
             0.5555555555555556,
             "#d8576b"
            ],
            [
             0.6666666666666666,
             "#ed7953"
            ],
            [
             0.7777777777777778,
             "#fb9f3a"
            ],
            [
             0.8888888888888888,
             "#fdca26"
            ],
            [
             1,
             "#f0f921"
            ]
           ],
           "sequentialminus": [
            [
             0,
             "#0d0887"
            ],
            [
             0.1111111111111111,
             "#46039f"
            ],
            [
             0.2222222222222222,
             "#7201a8"
            ],
            [
             0.3333333333333333,
             "#9c179e"
            ],
            [
             0.4444444444444444,
             "#bd3786"
            ],
            [
             0.5555555555555556,
             "#d8576b"
            ],
            [
             0.6666666666666666,
             "#ed7953"
            ],
            [
             0.7777777777777778,
             "#fb9f3a"
            ],
            [
             0.8888888888888888,
             "#fdca26"
            ],
            [
             1,
             "#f0f921"
            ]
           ]
          },
          "colorway": [
           "#636efa",
           "#EF553B",
           "#00cc96",
           "#ab63fa",
           "#FFA15A",
           "#19d3f3",
           "#FF6692",
           "#B6E880",
           "#FF97FF",
           "#FECB52"
          ],
          "font": {
           "color": "#2a3f5f"
          },
          "geo": {
           "bgcolor": "white",
           "lakecolor": "white",
           "landcolor": "#E5ECF6",
           "showlakes": true,
           "showland": true,
           "subunitcolor": "white"
          },
          "hoverlabel": {
           "align": "left"
          },
          "hovermode": "closest",
          "mapbox": {
           "style": "light"
          },
          "paper_bgcolor": "white",
          "plot_bgcolor": "#E5ECF6",
          "polar": {
           "angularaxis": {
            "gridcolor": "white",
            "linecolor": "white",
            "ticks": ""
           },
           "bgcolor": "#E5ECF6",
           "radialaxis": {
            "gridcolor": "white",
            "linecolor": "white",
            "ticks": ""
           }
          },
          "scene": {
           "xaxis": {
            "backgroundcolor": "#E5ECF6",
            "gridcolor": "white",
            "gridwidth": 2,
            "linecolor": "white",
            "showbackground": true,
            "ticks": "",
            "zerolinecolor": "white"
           },
           "yaxis": {
            "backgroundcolor": "#E5ECF6",
            "gridcolor": "white",
            "gridwidth": 2,
            "linecolor": "white",
            "showbackground": true,
            "ticks": "",
            "zerolinecolor": "white"
           },
           "zaxis": {
            "backgroundcolor": "#E5ECF6",
            "gridcolor": "white",
            "gridwidth": 2,
            "linecolor": "white",
            "showbackground": true,
            "ticks": "",
            "zerolinecolor": "white"
           }
          },
          "shapedefaults": {
           "line": {
            "color": "#2a3f5f"
           }
          },
          "ternary": {
           "aaxis": {
            "gridcolor": "white",
            "linecolor": "white",
            "ticks": ""
           },
           "baxis": {
            "gridcolor": "white",
            "linecolor": "white",
            "ticks": ""
           },
           "bgcolor": "#E5ECF6",
           "caxis": {
            "gridcolor": "white",
            "linecolor": "white",
            "ticks": ""
           }
          },
          "title": {
           "x": 0.05
          },
          "xaxis": {
           "automargin": true,
           "gridcolor": "white",
           "linecolor": "white",
           "ticks": "",
           "title": {
            "standoff": 15
           },
           "zerolinecolor": "white",
           "zerolinewidth": 2
          },
          "yaxis": {
           "automargin": true,
           "gridcolor": "white",
           "linecolor": "white",
           "ticks": "",
           "title": {
            "standoff": 15
           },
           "zerolinecolor": "white",
           "zerolinewidth": 2
          }
         }
        },
        "xaxis": {
         "anchor": "y",
         "domain": [
          0,
          1
         ],
         "title": {
          "text": "strikeout_perc"
         }
        },
        "yaxis": {
         "anchor": "x",
         "domain": [
          0,
          1
         ],
         "title": {
          "text": "last_pitch_re24"
         }
        }
       }
      },
      "text/html": [
       "<div>\n",
       "        \n",
       "        \n",
       "            <div id=\"3a2e0402-0343-4604-820e-5f743d5a7fed\" class=\"plotly-graph-div\" style=\"height:525px; width:100%;\"></div>\n",
       "            <script type=\"text/javascript\">\n",
       "                require([\"plotly\"], function(Plotly) {\n",
       "                    window.PLOTLYENV=window.PLOTLYENV || {};\n",
       "                    \n",
       "                if (document.getElementById(\"3a2e0402-0343-4604-820e-5f743d5a7fed\")) {\n",
       "                    Plotly.newPlot(\n",
       "                        '3a2e0402-0343-4604-820e-5f743d5a7fed',\n",
       "                        [{\"hoverlabel\": {\"namelength\": 0}, \"hovertemplate\": \"color=Four-Seam Fastball<br>strikeout_perc=%{x}<br>last_pitch_re24=%{y}<br>last_pitch_perc=%{marker.size}\", \"legendgroup\": \"Four-Seam Fastball\", \"marker\": {\"color\": \"#636efa\", \"size\": [0.34282384192123166], \"sizemode\": \"area\", \"sizeref\": 0.0008570596048030791, \"symbol\": \"circle\"}, \"mode\": \"markers\", \"name\": \"Four-Seam Fastball\", \"showlegend\": true, \"type\": \"scatter\", \"x\": [0.21573712424295136], \"xaxis\": \"x\", \"y\": [0.026004173057758224], \"yaxis\": \"y\"}, {\"hoverlabel\": {\"namelength\": 0}, \"hovertemplate\": \"color=Slider<br>strikeout_perc=%{x}<br>last_pitch_re24=%{y}<br>last_pitch_perc=%{marker.size}\", \"legendgroup\": \"Slider\", \"marker\": {\"color\": \"#EF553B\", \"size\": [0.1812647385682921], \"sizemode\": \"area\", \"sizeref\": 0.0008570596048030791, \"symbol\": \"circle\"}, \"mode\": \"markers\", \"name\": \"Slider\", \"showlegend\": true, \"type\": \"scatter\", \"x\": [0.3137243173729701], \"xaxis\": \"x\", \"y\": [-0.0416101384693624], \"yaxis\": \"y\"}, {\"hoverlabel\": {\"namelength\": 0}, \"hovertemplate\": \"color=Changeup<br>strikeout_perc=%{x}<br>last_pitch_re24=%{y}<br>last_pitch_perc=%{marker.size}\", \"legendgroup\": \"Changeup\", \"marker\": {\"color\": \"#00cc96\", \"size\": [0.12051066597999621], \"sizemode\": \"area\", \"sizeref\": 0.0008570596048030791, \"symbol\": \"circle\"}, \"mode\": \"markers\", \"name\": \"Changeup\", \"showlegend\": true, \"type\": \"scatter\", \"x\": [0.21277552856500226], \"xaxis\": \"x\", \"y\": [-0.029746693657218732], \"yaxis\": \"y\"}, {\"hoverlabel\": {\"namelength\": 0}, \"hovertemplate\": \"color=Two-Seam Fastball<br>strikeout_perc=%{x}<br>last_pitch_re24=%{y}<br>last_pitch_perc=%{marker.size}\", \"legendgroup\": \"Two-Seam Fastball\", \"marker\": {\"color\": \"#ab63fa\", \"size\": [0.09080855446832732], \"sizemode\": \"area\", \"sizeref\": 0.0008570596048030791, \"symbol\": \"circle\"}, \"mode\": \"markers\", \"name\": \"Two-Seam Fastball\", \"showlegend\": true, \"type\": \"scatter\", \"x\": [0.13581278729628082], \"xaxis\": \"x\", \"y\": [0.02238191152766755], \"yaxis\": \"y\"}, {\"hoverlabel\": {\"namelength\": 0}, \"hovertemplate\": \"color=Sinker<br>strikeout_perc=%{x}<br>last_pitch_re24=%{y}<br>last_pitch_perc=%{marker.size}\", \"legendgroup\": \"Sinker\", \"marker\": {\"color\": \"#FFA15A\", \"size\": [0.0821402434066083], \"sizemode\": \"area\", \"sizeref\": 0.0008570596048030791, \"symbol\": \"circle\"}, \"mode\": \"markers\", \"name\": \"Sinker\", \"showlegend\": true, \"type\": \"scatter\", \"x\": [0.1279039070749736], \"xaxis\": \"x\", \"y\": [0.03471831441393413], \"yaxis\": \"y\"}, {\"hoverlabel\": {\"namelength\": 0}, \"hovertemplate\": \"color=Curveball<br>strikeout_perc=%{x}<br>last_pitch_re24=%{y}<br>last_pitch_perc=%{marker.size}\", \"legendgroup\": \"Curveball\", \"marker\": {\"color\": \"#19d3f3\", \"size\": [0.08057897162063264], \"sizemode\": \"area\", \"sizeref\": 0.0008570596048030791, \"symbol\": \"circle\"}, \"mode\": \"markers\", \"name\": \"Curveball\", \"showlegend\": true, \"type\": \"scatter\", \"x\": [0.30456135629709363], \"xaxis\": \"x\", \"y\": [-0.03372499327233888], \"yaxis\": \"y\"}, {\"hoverlabel\": {\"namelength\": 0}, \"hovertemplate\": \"color=Cutter<br>strikeout_perc=%{x}<br>last_pitch_re24=%{y}<br>last_pitch_perc=%{marker.size}\", \"legendgroup\": \"Cutter\", \"marker\": {\"color\": \"#FF6692\", \"size\": [0.06542704578104247], \"sizemode\": \"area\", \"sizeref\": 0.0008570596048030791, \"symbol\": \"circle\"}, \"mode\": \"markers\", \"name\": \"Cutter\", \"showlegend\": true, \"type\": \"scatter\", \"x\": [0.2058165548098434], \"xaxis\": \"x\", \"y\": [-0.0033403844560441157], \"yaxis\": \"y\"}, {\"hoverlabel\": {\"namelength\": 0}, \"hovertemplate\": \"color=Knuckle Curve<br>strikeout_perc=%{x}<br>last_pitch_re24=%{y}<br>last_pitch_perc=%{marker.size}\", \"legendgroup\": \"Knuckle Curve\", \"marker\": {\"color\": \"#B6E880\", \"size\": [0.020188111565879706], \"sizemode\": \"area\", \"sizeref\": 0.0008570596048030791, \"symbol\": \"circle\"}, \"mode\": \"markers\", \"name\": \"Knuckle Curve\", \"showlegend\": true, \"type\": \"scatter\", \"x\": [0.3396885069817401], \"xaxis\": \"x\", \"y\": [-0.05607180451127784], \"yaxis\": \"y\"}, {\"hoverlabel\": {\"namelength\": 0}, \"hovertemplate\": \"color=Splitter<br>strikeout_perc=%{x}<br>last_pitch_re24=%{y}<br>last_pitch_perc=%{marker.size}\", \"legendgroup\": \"Splitter\", \"marker\": {\"color\": \"#FF97FF\", \"size\": [0.01580787683300355], \"sizemode\": \"area\", \"sizeref\": 0.0008570596048030791, \"symbol\": \"circle\"}, \"mode\": \"markers\", \"name\": \"Splitter\", \"showlegend\": true, \"type\": \"scatter\", \"x\": [0.30795610425240055], \"xaxis\": \"x\", \"y\": [-0.06292616598079516], \"yaxis\": \"y\"}],\n",
       "                        {\"legend\": {\"itemsizing\": \"constant\", \"title\": {\"text\": \"color\"}, \"tracegroupgap\": 0}, \"margin\": {\"t\": 60}, \"template\": {\"data\": {\"bar\": [{\"error_x\": {\"color\": \"#2a3f5f\"}, \"error_y\": {\"color\": \"#2a3f5f\"}, \"marker\": {\"line\": {\"color\": \"#E5ECF6\", \"width\": 0.5}}, \"type\": \"bar\"}], \"barpolar\": [{\"marker\": {\"line\": {\"color\": \"#E5ECF6\", \"width\": 0.5}}, \"type\": \"barpolar\"}], \"carpet\": [{\"aaxis\": {\"endlinecolor\": \"#2a3f5f\", \"gridcolor\": \"white\", \"linecolor\": \"white\", \"minorgridcolor\": \"white\", \"startlinecolor\": \"#2a3f5f\"}, \"baxis\": {\"endlinecolor\": \"#2a3f5f\", \"gridcolor\": \"white\", \"linecolor\": \"white\", \"minorgridcolor\": \"white\", \"startlinecolor\": \"#2a3f5f\"}, \"type\": \"carpet\"}], \"choropleth\": [{\"colorbar\": {\"outlinewidth\": 0, \"ticks\": \"\"}, \"type\": \"choropleth\"}], \"contour\": [{\"colorbar\": {\"outlinewidth\": 0, \"ticks\": \"\"}, \"colorscale\": [[0.0, \"#0d0887\"], [0.1111111111111111, \"#46039f\"], [0.2222222222222222, \"#7201a8\"], [0.3333333333333333, \"#9c179e\"], [0.4444444444444444, \"#bd3786\"], [0.5555555555555556, \"#d8576b\"], [0.6666666666666666, \"#ed7953\"], [0.7777777777777778, \"#fb9f3a\"], [0.8888888888888888, \"#fdca26\"], [1.0, \"#f0f921\"]], \"type\": \"contour\"}], \"contourcarpet\": [{\"colorbar\": {\"outlinewidth\": 0, \"ticks\": \"\"}, \"type\": \"contourcarpet\"}], \"heatmap\": [{\"colorbar\": {\"outlinewidth\": 0, \"ticks\": \"\"}, \"colorscale\": [[0.0, \"#0d0887\"], [0.1111111111111111, \"#46039f\"], [0.2222222222222222, \"#7201a8\"], [0.3333333333333333, \"#9c179e\"], [0.4444444444444444, \"#bd3786\"], [0.5555555555555556, \"#d8576b\"], [0.6666666666666666, \"#ed7953\"], [0.7777777777777778, \"#fb9f3a\"], [0.8888888888888888, \"#fdca26\"], [1.0, \"#f0f921\"]], \"type\": \"heatmap\"}], \"heatmapgl\": [{\"colorbar\": {\"outlinewidth\": 0, \"ticks\": \"\"}, \"colorscale\": [[0.0, \"#0d0887\"], [0.1111111111111111, \"#46039f\"], [0.2222222222222222, \"#7201a8\"], [0.3333333333333333, \"#9c179e\"], [0.4444444444444444, \"#bd3786\"], [0.5555555555555556, \"#d8576b\"], [0.6666666666666666, \"#ed7953\"], [0.7777777777777778, \"#fb9f3a\"], [0.8888888888888888, \"#fdca26\"], [1.0, \"#f0f921\"]], \"type\": \"heatmapgl\"}], \"histogram\": [{\"marker\": {\"colorbar\": {\"outlinewidth\": 0, \"ticks\": \"\"}}, \"type\": \"histogram\"}], \"histogram2d\": [{\"colorbar\": {\"outlinewidth\": 0, \"ticks\": \"\"}, \"colorscale\": [[0.0, \"#0d0887\"], [0.1111111111111111, \"#46039f\"], [0.2222222222222222, \"#7201a8\"], [0.3333333333333333, \"#9c179e\"], [0.4444444444444444, \"#bd3786\"], [0.5555555555555556, \"#d8576b\"], [0.6666666666666666, \"#ed7953\"], [0.7777777777777778, \"#fb9f3a\"], [0.8888888888888888, \"#fdca26\"], [1.0, \"#f0f921\"]], \"type\": \"histogram2d\"}], \"histogram2dcontour\": [{\"colorbar\": {\"outlinewidth\": 0, \"ticks\": \"\"}, \"colorscale\": [[0.0, \"#0d0887\"], [0.1111111111111111, \"#46039f\"], [0.2222222222222222, \"#7201a8\"], [0.3333333333333333, \"#9c179e\"], [0.4444444444444444, \"#bd3786\"], [0.5555555555555556, \"#d8576b\"], [0.6666666666666666, \"#ed7953\"], [0.7777777777777778, \"#fb9f3a\"], [0.8888888888888888, \"#fdca26\"], [1.0, \"#f0f921\"]], \"type\": \"histogram2dcontour\"}], \"mesh3d\": [{\"colorbar\": {\"outlinewidth\": 0, \"ticks\": \"\"}, \"type\": \"mesh3d\"}], \"parcoords\": [{\"line\": {\"colorbar\": {\"outlinewidth\": 0, \"ticks\": \"\"}}, \"type\": \"parcoords\"}], \"pie\": [{\"automargin\": true, \"type\": \"pie\"}], \"scatter\": [{\"marker\": {\"colorbar\": {\"outlinewidth\": 0, \"ticks\": \"\"}}, \"type\": \"scatter\"}], \"scatter3d\": [{\"line\": {\"colorbar\": {\"outlinewidth\": 0, \"ticks\": \"\"}}, \"marker\": {\"colorbar\": {\"outlinewidth\": 0, \"ticks\": \"\"}}, \"type\": \"scatter3d\"}], \"scattercarpet\": [{\"marker\": {\"colorbar\": {\"outlinewidth\": 0, \"ticks\": \"\"}}, \"type\": \"scattercarpet\"}], \"scattergeo\": [{\"marker\": {\"colorbar\": {\"outlinewidth\": 0, \"ticks\": \"\"}}, \"type\": \"scattergeo\"}], \"scattergl\": [{\"marker\": {\"colorbar\": {\"outlinewidth\": 0, \"ticks\": \"\"}}, \"type\": \"scattergl\"}], \"scattermapbox\": [{\"marker\": {\"colorbar\": {\"outlinewidth\": 0, \"ticks\": \"\"}}, \"type\": \"scattermapbox\"}], \"scatterpolar\": [{\"marker\": {\"colorbar\": {\"outlinewidth\": 0, \"ticks\": \"\"}}, \"type\": \"scatterpolar\"}], \"scatterpolargl\": [{\"marker\": {\"colorbar\": {\"outlinewidth\": 0, \"ticks\": \"\"}}, \"type\": \"scatterpolargl\"}], \"scatterternary\": [{\"marker\": {\"colorbar\": {\"outlinewidth\": 0, \"ticks\": \"\"}}, \"type\": \"scatterternary\"}], \"surface\": [{\"colorbar\": {\"outlinewidth\": 0, \"ticks\": \"\"}, \"colorscale\": [[0.0, \"#0d0887\"], [0.1111111111111111, \"#46039f\"], [0.2222222222222222, \"#7201a8\"], [0.3333333333333333, \"#9c179e\"], [0.4444444444444444, \"#bd3786\"], [0.5555555555555556, \"#d8576b\"], [0.6666666666666666, \"#ed7953\"], [0.7777777777777778, \"#fb9f3a\"], [0.8888888888888888, \"#fdca26\"], [1.0, \"#f0f921\"]], \"type\": \"surface\"}], \"table\": [{\"cells\": {\"fill\": {\"color\": \"#EBF0F8\"}, \"line\": {\"color\": \"white\"}}, \"header\": {\"fill\": {\"color\": \"#C8D4E3\"}, \"line\": {\"color\": \"white\"}}, \"type\": \"table\"}]}, \"layout\": {\"annotationdefaults\": {\"arrowcolor\": \"#2a3f5f\", \"arrowhead\": 0, \"arrowwidth\": 1}, \"coloraxis\": {\"colorbar\": {\"outlinewidth\": 0, \"ticks\": \"\"}}, \"colorscale\": {\"diverging\": [[0, \"#8e0152\"], [0.1, \"#c51b7d\"], [0.2, \"#de77ae\"], [0.3, \"#f1b6da\"], [0.4, \"#fde0ef\"], [0.5, \"#f7f7f7\"], [0.6, \"#e6f5d0\"], [0.7, \"#b8e186\"], [0.8, \"#7fbc41\"], [0.9, \"#4d9221\"], [1, \"#276419\"]], \"sequential\": [[0.0, \"#0d0887\"], [0.1111111111111111, \"#46039f\"], [0.2222222222222222, \"#7201a8\"], [0.3333333333333333, \"#9c179e\"], [0.4444444444444444, \"#bd3786\"], [0.5555555555555556, \"#d8576b\"], [0.6666666666666666, \"#ed7953\"], [0.7777777777777778, \"#fb9f3a\"], [0.8888888888888888, \"#fdca26\"], [1.0, \"#f0f921\"]], \"sequentialminus\": [[0.0, \"#0d0887\"], [0.1111111111111111, \"#46039f\"], [0.2222222222222222, \"#7201a8\"], [0.3333333333333333, \"#9c179e\"], [0.4444444444444444, \"#bd3786\"], [0.5555555555555556, \"#d8576b\"], [0.6666666666666666, \"#ed7953\"], [0.7777777777777778, \"#fb9f3a\"], [0.8888888888888888, \"#fdca26\"], [1.0, \"#f0f921\"]]}, \"colorway\": [\"#636efa\", \"#EF553B\", \"#00cc96\", \"#ab63fa\", \"#FFA15A\", \"#19d3f3\", \"#FF6692\", \"#B6E880\", \"#FF97FF\", \"#FECB52\"], \"font\": {\"color\": \"#2a3f5f\"}, \"geo\": {\"bgcolor\": \"white\", \"lakecolor\": \"white\", \"landcolor\": \"#E5ECF6\", \"showlakes\": true, \"showland\": true, \"subunitcolor\": \"white\"}, \"hoverlabel\": {\"align\": \"left\"}, \"hovermode\": \"closest\", \"mapbox\": {\"style\": \"light\"}, \"paper_bgcolor\": \"white\", \"plot_bgcolor\": \"#E5ECF6\", \"polar\": {\"angularaxis\": {\"gridcolor\": \"white\", \"linecolor\": \"white\", \"ticks\": \"\"}, \"bgcolor\": \"#E5ECF6\", \"radialaxis\": {\"gridcolor\": \"white\", \"linecolor\": \"white\", \"ticks\": \"\"}}, \"scene\": {\"xaxis\": {\"backgroundcolor\": \"#E5ECF6\", \"gridcolor\": \"white\", \"gridwidth\": 2, \"linecolor\": \"white\", \"showbackground\": true, \"ticks\": \"\", \"zerolinecolor\": \"white\"}, \"yaxis\": {\"backgroundcolor\": \"#E5ECF6\", \"gridcolor\": \"white\", \"gridwidth\": 2, \"linecolor\": \"white\", \"showbackground\": true, \"ticks\": \"\", \"zerolinecolor\": \"white\"}, \"zaxis\": {\"backgroundcolor\": \"#E5ECF6\", \"gridcolor\": \"white\", \"gridwidth\": 2, \"linecolor\": \"white\", \"showbackground\": true, \"ticks\": \"\", \"zerolinecolor\": \"white\"}}, \"shapedefaults\": {\"line\": {\"color\": \"#2a3f5f\"}}, \"ternary\": {\"aaxis\": {\"gridcolor\": \"white\", \"linecolor\": \"white\", \"ticks\": \"\"}, \"baxis\": {\"gridcolor\": \"white\", \"linecolor\": \"white\", \"ticks\": \"\"}, \"bgcolor\": \"#E5ECF6\", \"caxis\": {\"gridcolor\": \"white\", \"linecolor\": \"white\", \"ticks\": \"\"}}, \"title\": {\"x\": 0.05}, \"xaxis\": {\"automargin\": true, \"gridcolor\": \"white\", \"linecolor\": \"white\", \"ticks\": \"\", \"title\": {\"standoff\": 15}, \"zerolinecolor\": \"white\", \"zerolinewidth\": 2}, \"yaxis\": {\"automargin\": true, \"gridcolor\": \"white\", \"linecolor\": \"white\", \"ticks\": \"\", \"title\": {\"standoff\": 15}, \"zerolinecolor\": \"white\", \"zerolinewidth\": 2}}}, \"xaxis\": {\"anchor\": \"y\", \"domain\": [0.0, 1.0], \"title\": {\"text\": \"strikeout_perc\"}}, \"yaxis\": {\"anchor\": \"x\", \"domain\": [0.0, 1.0], \"title\": {\"text\": \"last_pitch_re24\"}}},\n",
       "                        {\"responsive\": true}\n",
       "                    ).then(function(){\n",
       "                            \n",
       "var gd = document.getElementById('3a2e0402-0343-4604-820e-5f743d5a7fed');\n",
       "var x = new MutationObserver(function (mutations, observer) {{\n",
       "        var display = window.getComputedStyle(gd).display;\n",
       "        if (!display || display === 'none') {{\n",
       "            console.log([gd, 'removed!']);\n",
       "            Plotly.purge(gd);\n",
       "            observer.disconnect();\n",
       "        }}\n",
       "}});\n",
       "\n",
       "// Listen for the removal of the full notebook cells\n",
       "var notebookContainer = gd.closest('#notebook-container');\n",
       "if (notebookContainer) {{\n",
       "    x.observe(notebookContainer, {childList: true});\n",
       "}}\n",
       "\n",
       "// Listen for the clearing of the current output cell\n",
       "var outputEl = gd.closest('.output');\n",
       "if (outputEl) {{\n",
       "    x.observe(outputEl, {childList: true});\n",
       "}}\n",
       "\n",
       "                        })\n",
       "                };\n",
       "                });\n",
       "            </script>\n",
       "        </div>"
      ]
     },
     "metadata": {},
     "output_type": "display_data"
    }
   ],
   "source": [
    "# Plot last pitch perc vs re24\n",
    "filt_merged_last_pitch_df = merged_last_pitch_df[~merged_last_pitch_df.index.isin(['Forkball','Eephus','Knuckle Ball'])]\n",
    "fig = px.scatter(filt_merged_last_pitch_df, x='strikeout_perc', y='last_pitch_re24', color=filt_merged_last_pitch_df.index, size='last_pitch_perc')\n",
    "fig.show()"
   ]
  },
  {
   "cell_type": "markdown",
   "metadata": {},
   "source": [
    "## Look into pitch type effectiveness in full counts"
   ]
  },
  {
   "cell_type": "code",
   "execution_count": null,
   "metadata": {},
   "outputs": [],
   "source": []
  }
 ],
 "metadata": {
  "kernelspec": {
   "display_name": "Python 3",
   "language": "python",
   "name": "python3"
  },
  "language_info": {
   "codemirror_mode": {
    "name": "ipython",
    "version": 3
   },
   "file_extension": ".py",
   "mimetype": "text/x-python",
   "name": "python",
   "nbconvert_exporter": "python",
   "pygments_lexer": "ipython3",
   "version": "3.8.1"
  }
 },
 "nbformat": 4,
 "nbformat_minor": 4
}
